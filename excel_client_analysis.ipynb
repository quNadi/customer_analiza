{
 "metadata": {
  "language_info": {
   "codemirror_mode": {
    "name": "ipython",
    "version": 3
   },
   "file_extension": ".py",
   "mimetype": "text/x-python",
   "name": "python",
   "nbconvert_exporter": "python",
   "pygments_lexer": "ipython3",
   "version": "3.8.5-final"
  },
  "orig_nbformat": 2,
  "kernelspec": {
   "name": "python3",
   "display_name": "Python 3",
   "language": "python"
  }
 },
 "nbformat": 4,
 "nbformat_minor": 2,
 "cells": [
  {
   "cell_type": "code",
   "execution_count": 9,
   "metadata": {},
   "outputs": [
    {
     "output_type": "execute_result",
     "data": {
      "text/plain": [
       "      id first_name  last_name location  cat  dog  other    order  \\\n",
       "0      1     Hermia     Annion   Poland  NaN  NaN    NaN      NaN   \n",
       "1      2      Addie  Addeycott  Germany  0.0  1.0    1.0  €729,04   \n",
       "2      3      Bruno     Hindes   Poland  0.0  1.0    1.0  €664,59   \n",
       "3      4      Morie     Johnes   Poland  0.0  1.0    1.0  €971,00   \n",
       "4      5      Layla  Harrinson      NaN  0.0  1.0    0.0  €929,24   \n",
       "..   ...        ...        ...      ...  ...  ...    ...      ...   \n",
       "495  496     Adrien     Marris   Poland  1.0  1.0    1.0  €602,26   \n",
       "496  497    Amelina   Petracco      NaN  0.0  0.0    1.0  €865,47   \n",
       "497  498     Karlie      Simla      NaN  1.0  1.0    0.0   €18,12   \n",
       "498  499         Em   Heighton   Poland  1.0  1.0    0.0  €165,75   \n",
       "499  500        Clo     Piatti      NaN  1.0  1.0    1.0  €374,64   \n",
       "\n",
       "                          company_order frequency  \n",
       "0                                   NaN      year  \n",
       "1         West-Ward Pharmaceutical Corp      week  \n",
       "2                        Geritrex Corp.      year  \n",
       "3            Dispensing Solutions, Inc.     month  \n",
       "4                     Wockhardt Limited   quarter  \n",
       "..                                  ...       ...  \n",
       "495  Pfizer Laboratories Div Pfizer Inc     month  \n",
       "496                   L Perrigo Company      year  \n",
       "497                    Apotheca Company   quarter  \n",
       "498              Aaron Industries, Inc.     month  \n",
       "499                  THE KROGER COMPANY      week  \n",
       "\n",
       "[500 rows x 10 columns]"
      ],
      "text/html": "<div>\n<style scoped>\n    .dataframe tbody tr th:only-of-type {\n        vertical-align: middle;\n    }\n\n    .dataframe tbody tr th {\n        vertical-align: top;\n    }\n\n    .dataframe thead th {\n        text-align: right;\n    }\n</style>\n<table border=\"1\" class=\"dataframe\">\n  <thead>\n    <tr style=\"text-align: right;\">\n      <th></th>\n      <th>id</th>\n      <th>first_name</th>\n      <th>last_name</th>\n      <th>location</th>\n      <th>cat</th>\n      <th>dog</th>\n      <th>other</th>\n      <th>order</th>\n      <th>company_order</th>\n      <th>frequency</th>\n    </tr>\n  </thead>\n  <tbody>\n    <tr>\n      <th>0</th>\n      <td>1</td>\n      <td>Hermia</td>\n      <td>Annion</td>\n      <td>Poland</td>\n      <td>NaN</td>\n      <td>NaN</td>\n      <td>NaN</td>\n      <td>NaN</td>\n      <td>NaN</td>\n      <td>year</td>\n    </tr>\n    <tr>\n      <th>1</th>\n      <td>2</td>\n      <td>Addie</td>\n      <td>Addeycott</td>\n      <td>Germany</td>\n      <td>0.0</td>\n      <td>1.0</td>\n      <td>1.0</td>\n      <td>€729,04</td>\n      <td>West-Ward Pharmaceutical Corp</td>\n      <td>week</td>\n    </tr>\n    <tr>\n      <th>2</th>\n      <td>3</td>\n      <td>Bruno</td>\n      <td>Hindes</td>\n      <td>Poland</td>\n      <td>0.0</td>\n      <td>1.0</td>\n      <td>1.0</td>\n      <td>€664,59</td>\n      <td>Geritrex Corp.</td>\n      <td>year</td>\n    </tr>\n    <tr>\n      <th>3</th>\n      <td>4</td>\n      <td>Morie</td>\n      <td>Johnes</td>\n      <td>Poland</td>\n      <td>0.0</td>\n      <td>1.0</td>\n      <td>1.0</td>\n      <td>€971,00</td>\n      <td>Dispensing Solutions, Inc.</td>\n      <td>month</td>\n    </tr>\n    <tr>\n      <th>4</th>\n      <td>5</td>\n      <td>Layla</td>\n      <td>Harrinson</td>\n      <td>NaN</td>\n      <td>0.0</td>\n      <td>1.0</td>\n      <td>0.0</td>\n      <td>€929,24</td>\n      <td>Wockhardt Limited</td>\n      <td>quarter</td>\n    </tr>\n    <tr>\n      <th>...</th>\n      <td>...</td>\n      <td>...</td>\n      <td>...</td>\n      <td>...</td>\n      <td>...</td>\n      <td>...</td>\n      <td>...</td>\n      <td>...</td>\n      <td>...</td>\n      <td>...</td>\n    </tr>\n    <tr>\n      <th>495</th>\n      <td>496</td>\n      <td>Adrien</td>\n      <td>Marris</td>\n      <td>Poland</td>\n      <td>1.0</td>\n      <td>1.0</td>\n      <td>1.0</td>\n      <td>€602,26</td>\n      <td>Pfizer Laboratories Div Pfizer Inc</td>\n      <td>month</td>\n    </tr>\n    <tr>\n      <th>496</th>\n      <td>497</td>\n      <td>Amelina</td>\n      <td>Petracco</td>\n      <td>NaN</td>\n      <td>0.0</td>\n      <td>0.0</td>\n      <td>1.0</td>\n      <td>€865,47</td>\n      <td>L Perrigo Company</td>\n      <td>year</td>\n    </tr>\n    <tr>\n      <th>497</th>\n      <td>498</td>\n      <td>Karlie</td>\n      <td>Simla</td>\n      <td>NaN</td>\n      <td>1.0</td>\n      <td>1.0</td>\n      <td>0.0</td>\n      <td>€18,12</td>\n      <td>Apotheca Company</td>\n      <td>quarter</td>\n    </tr>\n    <tr>\n      <th>498</th>\n      <td>499</td>\n      <td>Em</td>\n      <td>Heighton</td>\n      <td>Poland</td>\n      <td>1.0</td>\n      <td>1.0</td>\n      <td>0.0</td>\n      <td>€165,75</td>\n      <td>Aaron Industries, Inc.</td>\n      <td>month</td>\n    </tr>\n    <tr>\n      <th>499</th>\n      <td>500</td>\n      <td>Clo</td>\n      <td>Piatti</td>\n      <td>NaN</td>\n      <td>1.0</td>\n      <td>1.0</td>\n      <td>1.0</td>\n      <td>€374,64</td>\n      <td>THE KROGER COMPANY</td>\n      <td>week</td>\n    </tr>\n  </tbody>\n</table>\n<p>500 rows × 10 columns</p>\n</div>"
     },
     "metadata": {},
     "execution_count": 9
    }
   ],
   "source": [
    "#LOAD PLIK XLSX klasyczny excela\n",
    "import pandas as pd\n",
    "import numpy as np\n",
    "\n",
    "df_clients=pd.read_excel('datasets/client_zooexcel.xlsx')   \n",
    "df_clients\n"
   ]
  },
  {
   "cell_type": "code",
   "execution_count": 10,
   "metadata": {},
   "outputs": [
    {
     "output_type": "execute_result",
     "data": {
      "text/plain": [
       "      id last_name  premium_client gender\n",
       "0      1    Chaman             0.0      M\n",
       "1      2    Hovard             1.0      M\n",
       "2      3    Burdge             0.0      F\n",
       "3      4    Buckel             0.0      F\n",
       "4      5     Wrout             1.0      F\n",
       "..   ...       ...             ...    ...\n",
       "495  496       Wiz             1.0      M\n",
       "496  497      Leve             1.0      M\n",
       "497  498  MacPeake             1.0      F\n",
       "498  499     Leith             1.0      F\n",
       "499  500      Dyer             0.0      F\n",
       "\n",
       "[500 rows x 4 columns]"
      ],
      "text/html": "<div>\n<style scoped>\n    .dataframe tbody tr th:only-of-type {\n        vertical-align: middle;\n    }\n\n    .dataframe tbody tr th {\n        vertical-align: top;\n    }\n\n    .dataframe thead th {\n        text-align: right;\n    }\n</style>\n<table border=\"1\" class=\"dataframe\">\n  <thead>\n    <tr style=\"text-align: right;\">\n      <th></th>\n      <th>id</th>\n      <th>last_name</th>\n      <th>premium_client</th>\n      <th>gender</th>\n    </tr>\n  </thead>\n  <tbody>\n    <tr>\n      <th>0</th>\n      <td>1</td>\n      <td>Chaman</td>\n      <td>0.0</td>\n      <td>M</td>\n    </tr>\n    <tr>\n      <th>1</th>\n      <td>2</td>\n      <td>Hovard</td>\n      <td>1.0</td>\n      <td>M</td>\n    </tr>\n    <tr>\n      <th>2</th>\n      <td>3</td>\n      <td>Burdge</td>\n      <td>0.0</td>\n      <td>F</td>\n    </tr>\n    <tr>\n      <th>3</th>\n      <td>4</td>\n      <td>Buckel</td>\n      <td>0.0</td>\n      <td>F</td>\n    </tr>\n    <tr>\n      <th>4</th>\n      <td>5</td>\n      <td>Wrout</td>\n      <td>1.0</td>\n      <td>F</td>\n    </tr>\n    <tr>\n      <th>...</th>\n      <td>...</td>\n      <td>...</td>\n      <td>...</td>\n      <td>...</td>\n    </tr>\n    <tr>\n      <th>495</th>\n      <td>496</td>\n      <td>Wiz</td>\n      <td>1.0</td>\n      <td>M</td>\n    </tr>\n    <tr>\n      <th>496</th>\n      <td>497</td>\n      <td>Leve</td>\n      <td>1.0</td>\n      <td>M</td>\n    </tr>\n    <tr>\n      <th>497</th>\n      <td>498</td>\n      <td>MacPeake</td>\n      <td>1.0</td>\n      <td>F</td>\n    </tr>\n    <tr>\n      <th>498</th>\n      <td>499</td>\n      <td>Leith</td>\n      <td>1.0</td>\n      <td>F</td>\n    </tr>\n    <tr>\n      <th>499</th>\n      <td>500</td>\n      <td>Dyer</td>\n      <td>0.0</td>\n      <td>F</td>\n    </tr>\n  </tbody>\n</table>\n<p>500 rows × 4 columns</p>\n</div>"
     },
     "metadata": {},
     "execution_count": 10
    }
   ],
   "source": [
    "df_premium=pd.read_excel('datasets/client_zoo_premium.xlsx')   \n",
    "df_premium"
   ]
  },
  {
   "cell_type": "code",
   "execution_count": null,
   "metadata": {},
   "outputs": [],
   "source": [
    "#common last_name -check \n"
   ]
  },
  {
   "cell_type": "code",
   "execution_count": null,
   "metadata": {},
   "outputs": [],
   "source": [
    "\n",
    "#POŁĄCZENIE DWÓCH PLIKÓW Z BAZY KLIENTÓW orders"
   ]
  },
  {
   "cell_type": "code",
   "execution_count": null,
   "metadata": {},
   "outputs": [],
   "source": [
    "#PREPARING DATA\n",
    "#cleaning data \n",
    "#polaczenie dwóch tabel klucz - nazwiska klientów"
   ]
  }
 ]
}