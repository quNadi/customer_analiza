{
 "metadata": {
  "language_info": {
   "codemirror_mode": {
    "name": "ipython",
    "version": 3
   },
   "file_extension": ".py",
   "mimetype": "text/x-python",
   "name": "python",
   "nbconvert_exporter": "python",
   "pygments_lexer": "ipython3",
   "version": "3.8.5-final"
  },
  "orig_nbformat": 2,
  "kernelspec": {
   "name": "python3",
   "display_name": "Python 3",
   "language": "python"
  }
 },
 "nbformat": 4,
 "nbformat_minor": 2,
 "cells": [
  {
   "cell_type": "code",
   "execution_count": 1,
   "metadata": {},
   "outputs": [
    {
     "output_type": "execute_result",
     "data": {
      "text/plain": [
       "      id dostawca  hours             loc   price\n",
       "0      1      GPS    NaN             NaN     NaN\n",
       "1      2   INpost    9.0          Poland  142.07\n",
       "2      3      DPD   15.0  Czech Republic  269.49\n",
       "3      4   INpost   18.0          Poland  370.56\n",
       "4      5      DPD    9.0          Poland  476.16\n",
       "..   ...      ...    ...             ...     ...\n",
       "195  196   INpost    5.0          Poland  134.52\n",
       "196  197      GPS   24.0  Czech Republic  231.79\n",
       "197  198      DPD    8.0          Poland  113.53\n",
       "198  199      GPS   13.0          Poland   65.49\n",
       "199  200   INpost    9.0          Poland  299.80\n",
       "\n",
       "[200 rows x 5 columns]"
      ],
      "text/html": "<div>\n<style scoped>\n    .dataframe tbody tr th:only-of-type {\n        vertical-align: middle;\n    }\n\n    .dataframe tbody tr th {\n        vertical-align: top;\n    }\n\n    .dataframe thead th {\n        text-align: right;\n    }\n</style>\n<table border=\"1\" class=\"dataframe\">\n  <thead>\n    <tr style=\"text-align: right;\">\n      <th></th>\n      <th>id</th>\n      <th>dostawca</th>\n      <th>hours</th>\n      <th>loc</th>\n      <th>price</th>\n    </tr>\n  </thead>\n  <tbody>\n    <tr>\n      <th>0</th>\n      <td>1</td>\n      <td>GPS</td>\n      <td>NaN</td>\n      <td>NaN</td>\n      <td>NaN</td>\n    </tr>\n    <tr>\n      <th>1</th>\n      <td>2</td>\n      <td>INpost</td>\n      <td>9.0</td>\n      <td>Poland</td>\n      <td>142.07</td>\n    </tr>\n    <tr>\n      <th>2</th>\n      <td>3</td>\n      <td>DPD</td>\n      <td>15.0</td>\n      <td>Czech Republic</td>\n      <td>269.49</td>\n    </tr>\n    <tr>\n      <th>3</th>\n      <td>4</td>\n      <td>INpost</td>\n      <td>18.0</td>\n      <td>Poland</td>\n      <td>370.56</td>\n    </tr>\n    <tr>\n      <th>4</th>\n      <td>5</td>\n      <td>DPD</td>\n      <td>9.0</td>\n      <td>Poland</td>\n      <td>476.16</td>\n    </tr>\n    <tr>\n      <th>...</th>\n      <td>...</td>\n      <td>...</td>\n      <td>...</td>\n      <td>...</td>\n      <td>...</td>\n    </tr>\n    <tr>\n      <th>195</th>\n      <td>196</td>\n      <td>INpost</td>\n      <td>5.0</td>\n      <td>Poland</td>\n      <td>134.52</td>\n    </tr>\n    <tr>\n      <th>196</th>\n      <td>197</td>\n      <td>GPS</td>\n      <td>24.0</td>\n      <td>Czech Republic</td>\n      <td>231.79</td>\n    </tr>\n    <tr>\n      <th>197</th>\n      <td>198</td>\n      <td>DPD</td>\n      <td>8.0</td>\n      <td>Poland</td>\n      <td>113.53</td>\n    </tr>\n    <tr>\n      <th>198</th>\n      <td>199</td>\n      <td>GPS</td>\n      <td>13.0</td>\n      <td>Poland</td>\n      <td>65.49</td>\n    </tr>\n    <tr>\n      <th>199</th>\n      <td>200</td>\n      <td>INpost</td>\n      <td>9.0</td>\n      <td>Poland</td>\n      <td>299.80</td>\n    </tr>\n  </tbody>\n</table>\n<p>200 rows × 5 columns</p>\n</div>"
     },
     "metadata": {},
     "execution_count": 1
    }
   ],
   "source": [
    "import numpy as np  \n",
    "import pandas as pd \n",
    "\n",
    "#LOAD DATA CSV FILE\n",
    "deliver=pd.read_csv('datasets/deliver_data.csv', header=0)\n",
    "deliver"
   ]
  },
  {
   "cell_type": "code",
   "execution_count": 2,
   "metadata": {},
   "outputs": [
    {
     "output_type": "execute_result",
     "data": {
      "text/plain": [
       "          MissingValues\n",
       "id                    0\n",
       "dostawca              0\n",
       "hours                11\n",
       "loc                  11\n",
       "price                11"
      ],
      "text/html": "<div>\n<style scoped>\n    .dataframe tbody tr th:only-of-type {\n        vertical-align: middle;\n    }\n\n    .dataframe tbody tr th {\n        vertical-align: top;\n    }\n\n    .dataframe thead th {\n        text-align: right;\n    }\n</style>\n<table border=\"1\" class=\"dataframe\">\n  <thead>\n    <tr style=\"text-align: right;\">\n      <th></th>\n      <th>MissingValues</th>\n    </tr>\n  </thead>\n  <tbody>\n    <tr>\n      <th>id</th>\n      <td>0</td>\n    </tr>\n    <tr>\n      <th>dostawca</th>\n      <td>0</td>\n    </tr>\n    <tr>\n      <th>hours</th>\n      <td>11</td>\n    </tr>\n    <tr>\n      <th>loc</th>\n      <td>11</td>\n    </tr>\n    <tr>\n      <th>price</th>\n      <td>11</td>\n    </tr>\n  </tbody>\n</table>\n</div>"
     },
     "metadata": {},
     "execution_count": 2
    }
   ],
   "source": [
    "#cleaning - missing data check\n",
    "\n",
    "missing_data_counts=pd.DataFrame(deliver.isnull().sum(),columns=['MissingValues'])\n",
    "missing_data_counts"
   ]
  },
  {
   "cell_type": "code",
   "execution_count": 4,
   "metadata": {},
   "outputs": [
    {
     "output_type": "execute_result",
     "data": {
      "text/plain": [
       "      id dostawca  hours             loc   price\n",
       "1      2   INpost    9.0          Poland  142.07\n",
       "2      3      DPD   15.0  Czech Republic  269.49\n",
       "3      4   INpost   18.0          Poland  370.56\n",
       "4      5      DPD    9.0          Poland  476.16\n",
       "5      6   INpost   19.0  Czech Republic  293.67\n",
       "..   ...      ...    ...             ...     ...\n",
       "195  196   INpost    5.0          Poland  134.52\n",
       "196  197      GPS   24.0  Czech Republic  231.79\n",
       "197  198      DPD    8.0          Poland  113.53\n",
       "198  199      GPS   13.0          Poland   65.49\n",
       "199  200   INpost    9.0          Poland  299.80\n",
       "\n",
       "[189 rows x 5 columns]"
      ],
      "text/html": "<div>\n<style scoped>\n    .dataframe tbody tr th:only-of-type {\n        vertical-align: middle;\n    }\n\n    .dataframe tbody tr th {\n        vertical-align: top;\n    }\n\n    .dataframe thead th {\n        text-align: right;\n    }\n</style>\n<table border=\"1\" class=\"dataframe\">\n  <thead>\n    <tr style=\"text-align: right;\">\n      <th></th>\n      <th>id</th>\n      <th>dostawca</th>\n      <th>hours</th>\n      <th>loc</th>\n      <th>price</th>\n    </tr>\n  </thead>\n  <tbody>\n    <tr>\n      <th>1</th>\n      <td>2</td>\n      <td>INpost</td>\n      <td>9.0</td>\n      <td>Poland</td>\n      <td>142.07</td>\n    </tr>\n    <tr>\n      <th>2</th>\n      <td>3</td>\n      <td>DPD</td>\n      <td>15.0</td>\n      <td>Czech Republic</td>\n      <td>269.49</td>\n    </tr>\n    <tr>\n      <th>3</th>\n      <td>4</td>\n      <td>INpost</td>\n      <td>18.0</td>\n      <td>Poland</td>\n      <td>370.56</td>\n    </tr>\n    <tr>\n      <th>4</th>\n      <td>5</td>\n      <td>DPD</td>\n      <td>9.0</td>\n      <td>Poland</td>\n      <td>476.16</td>\n    </tr>\n    <tr>\n      <th>5</th>\n      <td>6</td>\n      <td>INpost</td>\n      <td>19.0</td>\n      <td>Czech Republic</td>\n      <td>293.67</td>\n    </tr>\n    <tr>\n      <th>...</th>\n      <td>...</td>\n      <td>...</td>\n      <td>...</td>\n      <td>...</td>\n      <td>...</td>\n    </tr>\n    <tr>\n      <th>195</th>\n      <td>196</td>\n      <td>INpost</td>\n      <td>5.0</td>\n      <td>Poland</td>\n      <td>134.52</td>\n    </tr>\n    <tr>\n      <th>196</th>\n      <td>197</td>\n      <td>GPS</td>\n      <td>24.0</td>\n      <td>Czech Republic</td>\n      <td>231.79</td>\n    </tr>\n    <tr>\n      <th>197</th>\n      <td>198</td>\n      <td>DPD</td>\n      <td>8.0</td>\n      <td>Poland</td>\n      <td>113.53</td>\n    </tr>\n    <tr>\n      <th>198</th>\n      <td>199</td>\n      <td>GPS</td>\n      <td>13.0</td>\n      <td>Poland</td>\n      <td>65.49</td>\n    </tr>\n    <tr>\n      <th>199</th>\n      <td>200</td>\n      <td>INpost</td>\n      <td>9.0</td>\n      <td>Poland</td>\n      <td>299.80</td>\n    </tr>\n  </tbody>\n</table>\n<p>189 rows × 5 columns</p>\n</div>"
     },
     "metadata": {},
     "execution_count": 4
    }
   ],
   "source": [
    "#cleaning- drop NaN data to avoid failure \n",
    "deliver.dropna(inplace=True)\n",
    "deliver"
   ]
  },
  {
   "cell_type": "code",
   "execution_count": 11,
   "metadata": {},
   "outputs": [
    {
     "output_type": "execute_result",
     "data": {
      "text/plain": [
       "    dostawca  hours             loc   price\n",
       "1     INpost    9.0          Poland  142.07\n",
       "2        DPD   15.0  Czech Republic  269.49\n",
       "3     INpost   18.0          Poland  370.56\n",
       "4        DPD    9.0          Poland  476.16\n",
       "5     INpost   19.0  Czech Republic  293.67\n",
       "..       ...    ...             ...     ...\n",
       "195   INpost    5.0          Poland  134.52\n",
       "196      GPS   24.0  Czech Republic  231.79\n",
       "197      DPD    8.0          Poland  113.53\n",
       "198      GPS   13.0          Poland   65.49\n",
       "199   INpost    9.0          Poland  299.80\n",
       "\n",
       "[189 rows x 4 columns]"
      ],
      "text/html": "<div>\n<style scoped>\n    .dataframe tbody tr th:only-of-type {\n        vertical-align: middle;\n    }\n\n    .dataframe tbody tr th {\n        vertical-align: top;\n    }\n\n    .dataframe thead th {\n        text-align: right;\n    }\n</style>\n<table border=\"1\" class=\"dataframe\">\n  <thead>\n    <tr style=\"text-align: right;\">\n      <th></th>\n      <th>dostawca</th>\n      <th>hours</th>\n      <th>loc</th>\n      <th>price</th>\n    </tr>\n  </thead>\n  <tbody>\n    <tr>\n      <th>1</th>\n      <td>INpost</td>\n      <td>9.0</td>\n      <td>Poland</td>\n      <td>142.07</td>\n    </tr>\n    <tr>\n      <th>2</th>\n      <td>DPD</td>\n      <td>15.0</td>\n      <td>Czech Republic</td>\n      <td>269.49</td>\n    </tr>\n    <tr>\n      <th>3</th>\n      <td>INpost</td>\n      <td>18.0</td>\n      <td>Poland</td>\n      <td>370.56</td>\n    </tr>\n    <tr>\n      <th>4</th>\n      <td>DPD</td>\n      <td>9.0</td>\n      <td>Poland</td>\n      <td>476.16</td>\n    </tr>\n    <tr>\n      <th>5</th>\n      <td>INpost</td>\n      <td>19.0</td>\n      <td>Czech Republic</td>\n      <td>293.67</td>\n    </tr>\n    <tr>\n      <th>...</th>\n      <td>...</td>\n      <td>...</td>\n      <td>...</td>\n      <td>...</td>\n    </tr>\n    <tr>\n      <th>195</th>\n      <td>INpost</td>\n      <td>5.0</td>\n      <td>Poland</td>\n      <td>134.52</td>\n    </tr>\n    <tr>\n      <th>196</th>\n      <td>GPS</td>\n      <td>24.0</td>\n      <td>Czech Republic</td>\n      <td>231.79</td>\n    </tr>\n    <tr>\n      <th>197</th>\n      <td>DPD</td>\n      <td>8.0</td>\n      <td>Poland</td>\n      <td>113.53</td>\n    </tr>\n    <tr>\n      <th>198</th>\n      <td>GPS</td>\n      <td>13.0</td>\n      <td>Poland</td>\n      <td>65.49</td>\n    </tr>\n    <tr>\n      <th>199</th>\n      <td>INpost</td>\n      <td>9.0</td>\n      <td>Poland</td>\n      <td>299.80</td>\n    </tr>\n  </tbody>\n</table>\n<p>189 rows × 4 columns</p>\n</div>"
     },
     "metadata": {},
     "execution_count": 11
    }
   ],
   "source": [
    "#cleaning - remove id column after dropna and set index\n",
    "\n",
    "\n",
    "del deliver['id']\n",
    "deliver\n",
    "\n"
   ]
  },
  {
   "cell_type": "code",
   "execution_count": 14,
   "metadata": {},
   "outputs": [
    {
     "output_type": "execute_result",
     "data": {
      "text/plain": [
       "         hours                                                    price  \\\n",
       "         count       mean       std  min   25%   50%    75%   max count   \n",
       "dostawca                                                                  \n",
       "DPD       64.0  13.562500  6.819382  2.0  7.75  14.0  19.25  24.0  64.0   \n",
       "GPS       54.0  12.925926  7.000948  1.0  6.00  13.0  19.00  24.0  54.0   \n",
       "INpost    71.0  12.845070  6.923352  1.0  8.00  13.0  18.50  24.0  71.0   \n",
       "\n",
       "                                                                              \n",
       "                mean         std    min       25%      50%       75%     max  \n",
       "dostawca                                                                      \n",
       "DPD       273.540781  127.069571  60.60  162.5775  255.195  381.8625  499.58  \n",
       "GPS       309.407037  126.834469  61.16  198.1450  331.830  397.1225  497.28  \n",
       "INpost    257.179014  121.805192  60.67  149.1250  245.730  366.6450  484.77  "
      ],
      "text/html": "<div>\n<style scoped>\n    .dataframe tbody tr th:only-of-type {\n        vertical-align: middle;\n    }\n\n    .dataframe tbody tr th {\n        vertical-align: top;\n    }\n\n    .dataframe thead tr th {\n        text-align: left;\n    }\n\n    .dataframe thead tr:last-of-type th {\n        text-align: right;\n    }\n</style>\n<table border=\"1\" class=\"dataframe\">\n  <thead>\n    <tr>\n      <th></th>\n      <th colspan=\"8\" halign=\"left\">hours</th>\n      <th colspan=\"8\" halign=\"left\">price</th>\n    </tr>\n    <tr>\n      <th></th>\n      <th>count</th>\n      <th>mean</th>\n      <th>std</th>\n      <th>min</th>\n      <th>25%</th>\n      <th>50%</th>\n      <th>75%</th>\n      <th>max</th>\n      <th>count</th>\n      <th>mean</th>\n      <th>std</th>\n      <th>min</th>\n      <th>25%</th>\n      <th>50%</th>\n      <th>75%</th>\n      <th>max</th>\n    </tr>\n    <tr>\n      <th>dostawca</th>\n      <th></th>\n      <th></th>\n      <th></th>\n      <th></th>\n      <th></th>\n      <th></th>\n      <th></th>\n      <th></th>\n      <th></th>\n      <th></th>\n      <th></th>\n      <th></th>\n      <th></th>\n      <th></th>\n      <th></th>\n      <th></th>\n    </tr>\n  </thead>\n  <tbody>\n    <tr>\n      <th>DPD</th>\n      <td>64.0</td>\n      <td>13.562500</td>\n      <td>6.819382</td>\n      <td>2.0</td>\n      <td>7.75</td>\n      <td>14.0</td>\n      <td>19.25</td>\n      <td>24.0</td>\n      <td>64.0</td>\n      <td>273.540781</td>\n      <td>127.069571</td>\n      <td>60.60</td>\n      <td>162.5775</td>\n      <td>255.195</td>\n      <td>381.8625</td>\n      <td>499.58</td>\n    </tr>\n    <tr>\n      <th>GPS</th>\n      <td>54.0</td>\n      <td>12.925926</td>\n      <td>7.000948</td>\n      <td>1.0</td>\n      <td>6.00</td>\n      <td>13.0</td>\n      <td>19.00</td>\n      <td>24.0</td>\n      <td>54.0</td>\n      <td>309.407037</td>\n      <td>126.834469</td>\n      <td>61.16</td>\n      <td>198.1450</td>\n      <td>331.830</td>\n      <td>397.1225</td>\n      <td>497.28</td>\n    </tr>\n    <tr>\n      <th>INpost</th>\n      <td>71.0</td>\n      <td>12.845070</td>\n      <td>6.923352</td>\n      <td>1.0</td>\n      <td>8.00</td>\n      <td>13.0</td>\n      <td>18.50</td>\n      <td>24.0</td>\n      <td>71.0</td>\n      <td>257.179014</td>\n      <td>121.805192</td>\n      <td>60.67</td>\n      <td>149.1250</td>\n      <td>245.730</td>\n      <td>366.6450</td>\n      <td>484.77</td>\n    </tr>\n  </tbody>\n</table>\n</div>"
     },
     "metadata": {},
     "execution_count": 14
    }
   ],
   "source": [
    "#organizing group by deliver company basic stats\n",
    "\n",
    "grouped=deliver.groupby('dostawca')\n",
    "grouped.describe()"
   ]
  },
  {
   "cell_type": "code",
   "execution_count": 15,
   "metadata": {},
   "outputs": [
    {
     "output_type": "execute_result",
     "data": {
      "text/plain": [
       "          hours     price\n",
       "hours  1.000000 -0.054215\n",
       "price -0.054215  1.000000"
      ],
      "text/html": "<div>\n<style scoped>\n    .dataframe tbody tr th:only-of-type {\n        vertical-align: middle;\n    }\n\n    .dataframe tbody tr th {\n        vertical-align: top;\n    }\n\n    .dataframe thead th {\n        text-align: right;\n    }\n</style>\n<table border=\"1\" class=\"dataframe\">\n  <thead>\n    <tr style=\"text-align: right;\">\n      <th></th>\n      <th>hours</th>\n      <th>price</th>\n    </tr>\n  </thead>\n  <tbody>\n    <tr>\n      <th>hours</th>\n      <td>1.000000</td>\n      <td>-0.054215</td>\n    </tr>\n    <tr>\n      <th>price</th>\n      <td>-0.054215</td>\n      <td>1.000000</td>\n    </tr>\n  </tbody>\n</table>\n</div>"
     },
     "metadata": {},
     "execution_count": 15
    }
   ],
   "source": [
    "#analysis Stats Corr\n",
    "\n",
    "deliver.corr()"
   ]
  },
  {
   "cell_type": "code",
   "execution_count": null,
   "metadata": {},
   "outputs": [],
   "source": []
  }
 ]
}