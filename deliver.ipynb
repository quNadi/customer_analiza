{
 "metadata": {
  "language_info": {
   "codemirror_mode": {
    "name": "ipython",
    "version": 3
   },
   "file_extension": ".py",
   "mimetype": "text/x-python",
   "name": "python",
   "nbconvert_exporter": "python",
   "pygments_lexer": "ipython3",
   "version": "3.8.5-final"
  },
  "orig_nbformat": 2,
  "kernelspec": {
   "name": "python3",
   "display_name": "Python 3",
   "language": "python"
  }
 },
 "nbformat": 4,
 "nbformat_minor": 2,
 "cells": [
  {
   "cell_type": "code",
   "execution_count": 1,
   "metadata": {},
   "outputs": [
    {
     "output_type": "execute_result",
     "data": {
      "text/plain": [
       "      id dostawca  hours             loc   price\n",
       "0      1      GPS    NaN             NaN     NaN\n",
       "1      2   INpost    9.0          Poland  142.07\n",
       "2      3      DPD   15.0  Czech Republic  269.49\n",
       "3      4   INpost   18.0          Poland  370.56\n",
       "4      5      DPD    9.0          Poland  476.16\n",
       "..   ...      ...    ...             ...     ...\n",
       "195  196   INpost    5.0          Poland  134.52\n",
       "196  197      GPS   24.0  Czech Republic  231.79\n",
       "197  198      DPD    8.0          Poland  113.53\n",
       "198  199      GPS   13.0          Poland   65.49\n",
       "199  200   INpost    9.0          Poland  299.80\n",
       "\n",
       "[200 rows x 5 columns]"
      ],
      "text/html": "<div>\n<style scoped>\n    .dataframe tbody tr th:only-of-type {\n        vertical-align: middle;\n    }\n\n    .dataframe tbody tr th {\n        vertical-align: top;\n    }\n\n    .dataframe thead th {\n        text-align: right;\n    }\n</style>\n<table border=\"1\" class=\"dataframe\">\n  <thead>\n    <tr style=\"text-align: right;\">\n      <th></th>\n      <th>id</th>\n      <th>dostawca</th>\n      <th>hours</th>\n      <th>loc</th>\n      <th>price</th>\n    </tr>\n  </thead>\n  <tbody>\n    <tr>\n      <th>0</th>\n      <td>1</td>\n      <td>GPS</td>\n      <td>NaN</td>\n      <td>NaN</td>\n      <td>NaN</td>\n    </tr>\n    <tr>\n      <th>1</th>\n      <td>2</td>\n      <td>INpost</td>\n      <td>9.0</td>\n      <td>Poland</td>\n      <td>142.07</td>\n    </tr>\n    <tr>\n      <th>2</th>\n      <td>3</td>\n      <td>DPD</td>\n      <td>15.0</td>\n      <td>Czech Republic</td>\n      <td>269.49</td>\n    </tr>\n    <tr>\n      <th>3</th>\n      <td>4</td>\n      <td>INpost</td>\n      <td>18.0</td>\n      <td>Poland</td>\n      <td>370.56</td>\n    </tr>\n    <tr>\n      <th>4</th>\n      <td>5</td>\n      <td>DPD</td>\n      <td>9.0</td>\n      <td>Poland</td>\n      <td>476.16</td>\n    </tr>\n    <tr>\n      <th>...</th>\n      <td>...</td>\n      <td>...</td>\n      <td>...</td>\n      <td>...</td>\n      <td>...</td>\n    </tr>\n    <tr>\n      <th>195</th>\n      <td>196</td>\n      <td>INpost</td>\n      <td>5.0</td>\n      <td>Poland</td>\n      <td>134.52</td>\n    </tr>\n    <tr>\n      <th>196</th>\n      <td>197</td>\n      <td>GPS</td>\n      <td>24.0</td>\n      <td>Czech Republic</td>\n      <td>231.79</td>\n    </tr>\n    <tr>\n      <th>197</th>\n      <td>198</td>\n      <td>DPD</td>\n      <td>8.0</td>\n      <td>Poland</td>\n      <td>113.53</td>\n    </tr>\n    <tr>\n      <th>198</th>\n      <td>199</td>\n      <td>GPS</td>\n      <td>13.0</td>\n      <td>Poland</td>\n      <td>65.49</td>\n    </tr>\n    <tr>\n      <th>199</th>\n      <td>200</td>\n      <td>INpost</td>\n      <td>9.0</td>\n      <td>Poland</td>\n      <td>299.80</td>\n    </tr>\n  </tbody>\n</table>\n<p>200 rows × 5 columns</p>\n</div>"
     },
     "metadata": {},
     "execution_count": 1
    }
   ],
   "source": [
    "import numpy as np  \n",
    "import pandas as pd \n",
    "\n",
    "#LOAD DATA CSV FILE\n",
    "deliver=pd.read_csv('datasets/deliver_data.csv', header=0)\n",
    "deliver"
   ]
  },
  {
   "cell_type": "code",
   "execution_count": null,
   "metadata": {},
   "outputs": [],
   "source": []
  }
 ]
}