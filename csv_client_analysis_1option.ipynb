{
 "metadata": {
  "language_info": {
   "codemirror_mode": {
    "name": "ipython",
    "version": 3
   },
   "file_extension": ".py",
   "mimetype": "text/x-python",
   "name": "python",
   "nbconvert_exporter": "python",
   "pygments_lexer": "ipython3",
   "version": "3.8.5-final"
  },
  "orig_nbformat": 2,
  "kernelspec": {
   "name": "python3",
   "display_name": "Python 3",
   "language": "python"
  }
 },
 "nbformat": 4,
 "nbformat_minor": 2,
 "cells": [
  {
   "cell_type": "code",
   "execution_count": 6,
   "metadata": {},
   "outputs": [
    {
     "output_type": "execute_result",
     "data": {
      "text/plain": [
       "       id first_name    last_name                       email  gender  \\\n",
       "0       1       Ines   Jouhandeau                         NaN  Female   \n",
       "1       2        Ara       Oxtaby   aoxtaby1@businessweek.com  Female   \n",
       "2       3     Linnie     Castagne       lcastagne2@paypal.com  Female   \n",
       "3       4    Cecilia      Klimpke          cklimpke3@furl.net  Female   \n",
       "4       5    Everard     Runnalls         erunnalls4@digg.com    Male   \n",
       "..    ...        ...          ...                         ...     ...   \n",
       "995   996      Shawn       Sunter        ssunterrn@drupal.org  Female   \n",
       "996   997      Rhody       Darley  rdarleyro@chronoengine.com  Female   \n",
       "997   998  Ezmeralda       Lathey                         NaN  Female   \n",
       "998   999   Vittoria      Ashmore      vashmorerq@twitter.com  Female   \n",
       "999  1000     Joyous  Kristiansen    jkristiansenrr@google.ca  Female   \n",
       "\n",
       "        app_name currency   Age  \n",
       "0         Keylex  €303,59  79.0  \n",
       "1           Span  €515,63   NaN  \n",
       "2        Andalax  €467,60  17.0  \n",
       "3          Otcom  €806,80  21.0  \n",
       "4     Stronghold      NaN   3.0  \n",
       "..           ...      ...   ...  \n",
       "995  Stringtough  €789,77  74.0  \n",
       "996    Cardguard      NaN  27.0  \n",
       "997    Gembucket      NaN  63.0  \n",
       "998  Solarbreeze  €548,63  57.0  \n",
       "999      Prodder      NaN  73.0  \n",
       "\n",
       "[1000 rows x 8 columns]"
      ],
      "text/html": "<div>\n<style scoped>\n    .dataframe tbody tr th:only-of-type {\n        vertical-align: middle;\n    }\n\n    .dataframe tbody tr th {\n        vertical-align: top;\n    }\n\n    .dataframe thead th {\n        text-align: right;\n    }\n</style>\n<table border=\"1\" class=\"dataframe\">\n  <thead>\n    <tr style=\"text-align: right;\">\n      <th></th>\n      <th>id</th>\n      <th>first_name</th>\n      <th>last_name</th>\n      <th>email</th>\n      <th>gender</th>\n      <th>app_name</th>\n      <th>currency</th>\n      <th>Age</th>\n    </tr>\n  </thead>\n  <tbody>\n    <tr>\n      <th>0</th>\n      <td>1</td>\n      <td>Ines</td>\n      <td>Jouhandeau</td>\n      <td>NaN</td>\n      <td>Female</td>\n      <td>Keylex</td>\n      <td>€303,59</td>\n      <td>79.0</td>\n    </tr>\n    <tr>\n      <th>1</th>\n      <td>2</td>\n      <td>Ara</td>\n      <td>Oxtaby</td>\n      <td>aoxtaby1@businessweek.com</td>\n      <td>Female</td>\n      <td>Span</td>\n      <td>€515,63</td>\n      <td>NaN</td>\n    </tr>\n    <tr>\n      <th>2</th>\n      <td>3</td>\n      <td>Linnie</td>\n      <td>Castagne</td>\n      <td>lcastagne2@paypal.com</td>\n      <td>Female</td>\n      <td>Andalax</td>\n      <td>€467,60</td>\n      <td>17.0</td>\n    </tr>\n    <tr>\n      <th>3</th>\n      <td>4</td>\n      <td>Cecilia</td>\n      <td>Klimpke</td>\n      <td>cklimpke3@furl.net</td>\n      <td>Female</td>\n      <td>Otcom</td>\n      <td>€806,80</td>\n      <td>21.0</td>\n    </tr>\n    <tr>\n      <th>4</th>\n      <td>5</td>\n      <td>Everard</td>\n      <td>Runnalls</td>\n      <td>erunnalls4@digg.com</td>\n      <td>Male</td>\n      <td>Stronghold</td>\n      <td>NaN</td>\n      <td>3.0</td>\n    </tr>\n    <tr>\n      <th>...</th>\n      <td>...</td>\n      <td>...</td>\n      <td>...</td>\n      <td>...</td>\n      <td>...</td>\n      <td>...</td>\n      <td>...</td>\n      <td>...</td>\n    </tr>\n    <tr>\n      <th>995</th>\n      <td>996</td>\n      <td>Shawn</td>\n      <td>Sunter</td>\n      <td>ssunterrn@drupal.org</td>\n      <td>Female</td>\n      <td>Stringtough</td>\n      <td>€789,77</td>\n      <td>74.0</td>\n    </tr>\n    <tr>\n      <th>996</th>\n      <td>997</td>\n      <td>Rhody</td>\n      <td>Darley</td>\n      <td>rdarleyro@chronoengine.com</td>\n      <td>Female</td>\n      <td>Cardguard</td>\n      <td>NaN</td>\n      <td>27.0</td>\n    </tr>\n    <tr>\n      <th>997</th>\n      <td>998</td>\n      <td>Ezmeralda</td>\n      <td>Lathey</td>\n      <td>NaN</td>\n      <td>Female</td>\n      <td>Gembucket</td>\n      <td>NaN</td>\n      <td>63.0</td>\n    </tr>\n    <tr>\n      <th>998</th>\n      <td>999</td>\n      <td>Vittoria</td>\n      <td>Ashmore</td>\n      <td>vashmorerq@twitter.com</td>\n      <td>Female</td>\n      <td>Solarbreeze</td>\n      <td>€548,63</td>\n      <td>57.0</td>\n    </tr>\n    <tr>\n      <th>999</th>\n      <td>1000</td>\n      <td>Joyous</td>\n      <td>Kristiansen</td>\n      <td>jkristiansenrr@google.ca</td>\n      <td>Female</td>\n      <td>Prodder</td>\n      <td>NaN</td>\n      <td>73.0</td>\n    </tr>\n  </tbody>\n</table>\n<p>1000 rows × 8 columns</p>\n</div>"
     },
     "metadata": {},
     "execution_count": 6
    }
   ],
   "source": [
    "import numpy as np  \n",
    "import pandas as pd \n",
    "df=pd.read_csv('/home/ullu/Documents/client_Data.csv', header=0)\n",
    "df"
   ]
  },
  {
   "cell_type": "code",
   "execution_count": 12,
   "metadata": {},
   "outputs": [
    {
     "output_type": "stream",
     "name": "stdout",
     "text": [
      "id\nfirst_name\nlast_name\nemail\ngender\napp_name\ncurrency\nAge\n"
     ]
    }
   ],
   "source": [
    "headers=df.columns.values\n",
    "for x in headers:\n",
    "    x.lower()\n",
    "    print(x)"
   ]
  },
  {
   "cell_type": "code",
   "execution_count": 8,
   "metadata": {},
   "outputs": [
    {
     "output_type": "execute_result",
     "data": {
      "text/plain": [
       "      id first_name  last_name                                email  gender  \\\n",
       "421  422   La verne  Adamovich  ladamovichbp@networkadvertising.org  Female   \n",
       "148  149    Arluene      Adran                   aadran44@nifty.com  Female   \n",
       "612  613    Sharona     Ailmer             sailmerh0@infoseek.co.jp  Female   \n",
       "116  117      Alano       Aird                                  NaN    Male   \n",
       "937  938    Mikaela       Aire              maireq1@themeforest.net  Female   \n",
       "..   ...        ...        ...                                  ...     ...   \n",
       "439  440    Devland    Zannini                dzanninic7@tumblr.com    Male   \n",
       "360  361       Illa    Zettler                   izettlera0@nba.com  Female   \n",
       "560  561     Rollie   Zisneros             rzisnerosfk@hatena.ne.jp    Male   \n",
       "28    29    Ethelyn  de Guerre                                  NaN  Female   \n",
       "729  730       Lock   de Lloyd           ldelloydk9@dagondesign.com    Male   \n",
       "\n",
       "     app_name currency   Age  \n",
       "421    Sub-Ex  €192,52  77.0  \n",
       "148  Treeflex      NaN   NaN  \n",
       "612   Pannier      NaN  50.0  \n",
       "116      Stim      NaN  52.0  \n",
       "937   Flexidy  €420,43  67.0  \n",
       "..        ...      ...   ...  \n",
       "439      Viva  €239,16  64.0  \n",
       "360  Bytecard      NaN  88.0  \n",
       "560     Opela  €381,53   NaN  \n",
       "28   Transcof      NaN  46.0  \n",
       "729       Job      NaN  79.0  \n",
       "\n",
       "[1000 rows x 8 columns]"
      ],
      "text/html": "<div>\n<style scoped>\n    .dataframe tbody tr th:only-of-type {\n        vertical-align: middle;\n    }\n\n    .dataframe tbody tr th {\n        vertical-align: top;\n    }\n\n    .dataframe thead th {\n        text-align: right;\n    }\n</style>\n<table border=\"1\" class=\"dataframe\">\n  <thead>\n    <tr style=\"text-align: right;\">\n      <th></th>\n      <th>id</th>\n      <th>first_name</th>\n      <th>last_name</th>\n      <th>email</th>\n      <th>gender</th>\n      <th>app_name</th>\n      <th>currency</th>\n      <th>Age</th>\n    </tr>\n  </thead>\n  <tbody>\n    <tr>\n      <th>421</th>\n      <td>422</td>\n      <td>La verne</td>\n      <td>Adamovich</td>\n      <td>ladamovichbp@networkadvertising.org</td>\n      <td>Female</td>\n      <td>Sub-Ex</td>\n      <td>€192,52</td>\n      <td>77.0</td>\n    </tr>\n    <tr>\n      <th>148</th>\n      <td>149</td>\n      <td>Arluene</td>\n      <td>Adran</td>\n      <td>aadran44@nifty.com</td>\n      <td>Female</td>\n      <td>Treeflex</td>\n      <td>NaN</td>\n      <td>NaN</td>\n    </tr>\n    <tr>\n      <th>612</th>\n      <td>613</td>\n      <td>Sharona</td>\n      <td>Ailmer</td>\n      <td>sailmerh0@infoseek.co.jp</td>\n      <td>Female</td>\n      <td>Pannier</td>\n      <td>NaN</td>\n      <td>50.0</td>\n    </tr>\n    <tr>\n      <th>116</th>\n      <td>117</td>\n      <td>Alano</td>\n      <td>Aird</td>\n      <td>NaN</td>\n      <td>Male</td>\n      <td>Stim</td>\n      <td>NaN</td>\n      <td>52.0</td>\n    </tr>\n    <tr>\n      <th>937</th>\n      <td>938</td>\n      <td>Mikaela</td>\n      <td>Aire</td>\n      <td>maireq1@themeforest.net</td>\n      <td>Female</td>\n      <td>Flexidy</td>\n      <td>€420,43</td>\n      <td>67.0</td>\n    </tr>\n    <tr>\n      <th>...</th>\n      <td>...</td>\n      <td>...</td>\n      <td>...</td>\n      <td>...</td>\n      <td>...</td>\n      <td>...</td>\n      <td>...</td>\n      <td>...</td>\n    </tr>\n    <tr>\n      <th>439</th>\n      <td>440</td>\n      <td>Devland</td>\n      <td>Zannini</td>\n      <td>dzanninic7@tumblr.com</td>\n      <td>Male</td>\n      <td>Viva</td>\n      <td>€239,16</td>\n      <td>64.0</td>\n    </tr>\n    <tr>\n      <th>360</th>\n      <td>361</td>\n      <td>Illa</td>\n      <td>Zettler</td>\n      <td>izettlera0@nba.com</td>\n      <td>Female</td>\n      <td>Bytecard</td>\n      <td>NaN</td>\n      <td>88.0</td>\n    </tr>\n    <tr>\n      <th>560</th>\n      <td>561</td>\n      <td>Rollie</td>\n      <td>Zisneros</td>\n      <td>rzisnerosfk@hatena.ne.jp</td>\n      <td>Male</td>\n      <td>Opela</td>\n      <td>€381,53</td>\n      <td>NaN</td>\n    </tr>\n    <tr>\n      <th>28</th>\n      <td>29</td>\n      <td>Ethelyn</td>\n      <td>de Guerre</td>\n      <td>NaN</td>\n      <td>Female</td>\n      <td>Transcof</td>\n      <td>NaN</td>\n      <td>46.0</td>\n    </tr>\n    <tr>\n      <th>729</th>\n      <td>730</td>\n      <td>Lock</td>\n      <td>de Lloyd</td>\n      <td>ldelloydk9@dagondesign.com</td>\n      <td>Male</td>\n      <td>Job</td>\n      <td>NaN</td>\n      <td>79.0</td>\n    </tr>\n  </tbody>\n</table>\n<p>1000 rows × 8 columns</p>\n</div>"
     },
     "metadata": {},
     "execution_count": 8
    }
   ],
   "source": [
    "df_sort_surname=df.sort_values(by=['last_name','first_name'])\n",
    "df_sort_surname   \n"
   ]
  },
  {
   "cell_type": "code",
   "execution_count": 19,
   "metadata": {},
   "outputs": [
    {
     "output_type": "execute_result",
     "data": {
      "text/plain": [
       "       id first_name    last_name                       email  gender  \\\n",
       "0       1       Ines   Jouhandeau                     missing  Female   \n",
       "1       2        Ara       Oxtaby   aoxtaby1@businessweek.com  Female   \n",
       "2       3     Linnie     Castagne       lcastagne2@paypal.com  Female   \n",
       "3       4    Cecilia      Klimpke          cklimpke3@furl.net  Female   \n",
       "4       5    Everard     Runnalls         erunnalls4@digg.com    Male   \n",
       "..    ...        ...          ...                         ...     ...   \n",
       "995   996      Shawn       Sunter        ssunterrn@drupal.org  Female   \n",
       "996   997      Rhody       Darley  rdarleyro@chronoengine.com  Female   \n",
       "997   998  Ezmeralda       Lathey                     missing  Female   \n",
       "998   999   Vittoria      Ashmore      vashmorerq@twitter.com  Female   \n",
       "999  1000     Joyous  Kristiansen    jkristiansenrr@google.ca  Female   \n",
       "\n",
       "        app_name currency      Age  \n",
       "0         Keylex  €303,59       79  \n",
       "1           Span  €515,63  missing  \n",
       "2        Andalax  €467,60       17  \n",
       "3          Otcom  €806,80       21  \n",
       "4     Stronghold  missing        3  \n",
       "..           ...      ...      ...  \n",
       "995  Stringtough  €789,77       74  \n",
       "996    Cardguard  missing       27  \n",
       "997    Gembucket  missing       63  \n",
       "998  Solarbreeze  €548,63       57  \n",
       "999      Prodder  missing       73  \n",
       "\n",
       "[1000 rows x 8 columns]"
      ],
      "text/html": "<div>\n<style scoped>\n    .dataframe tbody tr th:only-of-type {\n        vertical-align: middle;\n    }\n\n    .dataframe tbody tr th {\n        vertical-align: top;\n    }\n\n    .dataframe thead th {\n        text-align: right;\n    }\n</style>\n<table border=\"1\" class=\"dataframe\">\n  <thead>\n    <tr style=\"text-align: right;\">\n      <th></th>\n      <th>id</th>\n      <th>first_name</th>\n      <th>last_name</th>\n      <th>email</th>\n      <th>gender</th>\n      <th>app_name</th>\n      <th>currency</th>\n      <th>Age</th>\n    </tr>\n  </thead>\n  <tbody>\n    <tr>\n      <th>0</th>\n      <td>1</td>\n      <td>Ines</td>\n      <td>Jouhandeau</td>\n      <td>missing</td>\n      <td>Female</td>\n      <td>Keylex</td>\n      <td>€303,59</td>\n      <td>79</td>\n    </tr>\n    <tr>\n      <th>1</th>\n      <td>2</td>\n      <td>Ara</td>\n      <td>Oxtaby</td>\n      <td>aoxtaby1@businessweek.com</td>\n      <td>Female</td>\n      <td>Span</td>\n      <td>€515,63</td>\n      <td>missing</td>\n    </tr>\n    <tr>\n      <th>2</th>\n      <td>3</td>\n      <td>Linnie</td>\n      <td>Castagne</td>\n      <td>lcastagne2@paypal.com</td>\n      <td>Female</td>\n      <td>Andalax</td>\n      <td>€467,60</td>\n      <td>17</td>\n    </tr>\n    <tr>\n      <th>3</th>\n      <td>4</td>\n      <td>Cecilia</td>\n      <td>Klimpke</td>\n      <td>cklimpke3@furl.net</td>\n      <td>Female</td>\n      <td>Otcom</td>\n      <td>€806,80</td>\n      <td>21</td>\n    </tr>\n    <tr>\n      <th>4</th>\n      <td>5</td>\n      <td>Everard</td>\n      <td>Runnalls</td>\n      <td>erunnalls4@digg.com</td>\n      <td>Male</td>\n      <td>Stronghold</td>\n      <td>missing</td>\n      <td>3</td>\n    </tr>\n    <tr>\n      <th>...</th>\n      <td>...</td>\n      <td>...</td>\n      <td>...</td>\n      <td>...</td>\n      <td>...</td>\n      <td>...</td>\n      <td>...</td>\n      <td>...</td>\n    </tr>\n    <tr>\n      <th>995</th>\n      <td>996</td>\n      <td>Shawn</td>\n      <td>Sunter</td>\n      <td>ssunterrn@drupal.org</td>\n      <td>Female</td>\n      <td>Stringtough</td>\n      <td>€789,77</td>\n      <td>74</td>\n    </tr>\n    <tr>\n      <th>996</th>\n      <td>997</td>\n      <td>Rhody</td>\n      <td>Darley</td>\n      <td>rdarleyro@chronoengine.com</td>\n      <td>Female</td>\n      <td>Cardguard</td>\n      <td>missing</td>\n      <td>27</td>\n    </tr>\n    <tr>\n      <th>997</th>\n      <td>998</td>\n      <td>Ezmeralda</td>\n      <td>Lathey</td>\n      <td>missing</td>\n      <td>Female</td>\n      <td>Gembucket</td>\n      <td>missing</td>\n      <td>63</td>\n    </tr>\n    <tr>\n      <th>998</th>\n      <td>999</td>\n      <td>Vittoria</td>\n      <td>Ashmore</td>\n      <td>vashmorerq@twitter.com</td>\n      <td>Female</td>\n      <td>Solarbreeze</td>\n      <td>€548,63</td>\n      <td>57</td>\n    </tr>\n    <tr>\n      <th>999</th>\n      <td>1000</td>\n      <td>Joyous</td>\n      <td>Kristiansen</td>\n      <td>jkristiansenrr@google.ca</td>\n      <td>Female</td>\n      <td>Prodder</td>\n      <td>missing</td>\n      <td>73</td>\n    </tr>\n  </tbody>\n</table>\n<p>1000 rows × 8 columns</p>\n</div>"
     },
     "metadata": {},
     "execution_count": 19
    }
   ],
   "source": [
    "#missing data \n",
    "df.dtypes.value_counts()\n",
    "df_na=df.fillna(\"missing\")\n",
    "df_na\n"
   ]
  },
  {
   "cell_type": "code",
   "execution_count": 20,
   "metadata": {},
   "outputs": [
    {
     "output_type": "execute_result",
     "data": {
      "text/plain": [
       "       id first_name    last_name                       email  gender  \\\n",
       "0       1       Ines   Jouhandeau                         NaN  Female   \n",
       "1       2        Ara       Oxtaby   aoxtaby1@businessweek.com  Female   \n",
       "2       3     Linnie     Castagne       lcastagne2@paypal.com  Female   \n",
       "3       4    Cecilia      Klimpke          cklimpke3@furl.net  Female   \n",
       "4       5    Everard     Runnalls         erunnalls4@digg.com    Male   \n",
       "..    ...        ...          ...                         ...     ...   \n",
       "995   996      Shawn       Sunter        ssunterrn@drupal.org  Female   \n",
       "996   997      Rhody       Darley  rdarleyro@chronoengine.com  Female   \n",
       "997   998  Ezmeralda       Lathey                         NaN  Female   \n",
       "998   999   Vittoria      Ashmore      vashmorerq@twitter.com  Female   \n",
       "999  1000     Joyous  Kristiansen    jkristiansenrr@google.ca  Female   \n",
       "\n",
       "        app_name currency   Age  \n",
       "0         Keylex  €303,59  79.0  \n",
       "1           Span  €515,63  48.0  \n",
       "2        Andalax  €467,60  17.0  \n",
       "3          Otcom  €806,80  21.0  \n",
       "4     Stronghold      NaN   3.0  \n",
       "..           ...      ...   ...  \n",
       "995  Stringtough  €789,77  74.0  \n",
       "996    Cardguard      NaN  27.0  \n",
       "997    Gembucket      NaN  63.0  \n",
       "998  Solarbreeze  €548,63  57.0  \n",
       "999      Prodder      NaN  73.0  \n",
       "\n",
       "[1000 rows x 8 columns]"
      ],
      "text/html": "<div>\n<style scoped>\n    .dataframe tbody tr th:only-of-type {\n        vertical-align: middle;\n    }\n\n    .dataframe tbody tr th {\n        vertical-align: top;\n    }\n\n    .dataframe thead th {\n        text-align: right;\n    }\n</style>\n<table border=\"1\" class=\"dataframe\">\n  <thead>\n    <tr style=\"text-align: right;\">\n      <th></th>\n      <th>id</th>\n      <th>first_name</th>\n      <th>last_name</th>\n      <th>email</th>\n      <th>gender</th>\n      <th>app_name</th>\n      <th>currency</th>\n      <th>Age</th>\n    </tr>\n  </thead>\n  <tbody>\n    <tr>\n      <th>0</th>\n      <td>1</td>\n      <td>Ines</td>\n      <td>Jouhandeau</td>\n      <td>NaN</td>\n      <td>Female</td>\n      <td>Keylex</td>\n      <td>€303,59</td>\n      <td>79.0</td>\n    </tr>\n    <tr>\n      <th>1</th>\n      <td>2</td>\n      <td>Ara</td>\n      <td>Oxtaby</td>\n      <td>aoxtaby1@businessweek.com</td>\n      <td>Female</td>\n      <td>Span</td>\n      <td>€515,63</td>\n      <td>48.0</td>\n    </tr>\n    <tr>\n      <th>2</th>\n      <td>3</td>\n      <td>Linnie</td>\n      <td>Castagne</td>\n      <td>lcastagne2@paypal.com</td>\n      <td>Female</td>\n      <td>Andalax</td>\n      <td>€467,60</td>\n      <td>17.0</td>\n    </tr>\n    <tr>\n      <th>3</th>\n      <td>4</td>\n      <td>Cecilia</td>\n      <td>Klimpke</td>\n      <td>cklimpke3@furl.net</td>\n      <td>Female</td>\n      <td>Otcom</td>\n      <td>€806,80</td>\n      <td>21.0</td>\n    </tr>\n    <tr>\n      <th>4</th>\n      <td>5</td>\n      <td>Everard</td>\n      <td>Runnalls</td>\n      <td>erunnalls4@digg.com</td>\n      <td>Male</td>\n      <td>Stronghold</td>\n      <td>NaN</td>\n      <td>3.0</td>\n    </tr>\n    <tr>\n      <th>...</th>\n      <td>...</td>\n      <td>...</td>\n      <td>...</td>\n      <td>...</td>\n      <td>...</td>\n      <td>...</td>\n      <td>...</td>\n      <td>...</td>\n    </tr>\n    <tr>\n      <th>995</th>\n      <td>996</td>\n      <td>Shawn</td>\n      <td>Sunter</td>\n      <td>ssunterrn@drupal.org</td>\n      <td>Female</td>\n      <td>Stringtough</td>\n      <td>€789,77</td>\n      <td>74.0</td>\n    </tr>\n    <tr>\n      <th>996</th>\n      <td>997</td>\n      <td>Rhody</td>\n      <td>Darley</td>\n      <td>rdarleyro@chronoengine.com</td>\n      <td>Female</td>\n      <td>Cardguard</td>\n      <td>NaN</td>\n      <td>27.0</td>\n    </tr>\n    <tr>\n      <th>997</th>\n      <td>998</td>\n      <td>Ezmeralda</td>\n      <td>Lathey</td>\n      <td>NaN</td>\n      <td>Female</td>\n      <td>Gembucket</td>\n      <td>NaN</td>\n      <td>63.0</td>\n    </tr>\n    <tr>\n      <th>998</th>\n      <td>999</td>\n      <td>Vittoria</td>\n      <td>Ashmore</td>\n      <td>vashmorerq@twitter.com</td>\n      <td>Female</td>\n      <td>Solarbreeze</td>\n      <td>€548,63</td>\n      <td>57.0</td>\n    </tr>\n    <tr>\n      <th>999</th>\n      <td>1000</td>\n      <td>Joyous</td>\n      <td>Kristiansen</td>\n      <td>jkristiansenrr@google.ca</td>\n      <td>Female</td>\n      <td>Prodder</td>\n      <td>NaN</td>\n      <td>73.0</td>\n    </tr>\n  </tbody>\n</table>\n<p>1000 rows × 8 columns</p>\n</div>"
     },
     "metadata": {},
     "execution_count": 20
    }
   ],
   "source": [
    "df.interpolate()"
   ]
  },
  {
   "cell_type": "code",
   "execution_count": 15,
   "metadata": {},
   "outputs": [
    {
     "output_type": "execute_result",
     "data": {
      "text/plain": [
       "              Age\n",
       "gender           \n",
       "Female  50.522222\n",
       "Male    51.640091"
      ],
      "text/html": "<div>\n<style scoped>\n    .dataframe tbody tr th:only-of-type {\n        vertical-align: middle;\n    }\n\n    .dataframe tbody tr th {\n        vertical-align: top;\n    }\n\n    .dataframe thead th {\n        text-align: right;\n    }\n</style>\n<table border=\"1\" class=\"dataframe\">\n  <thead>\n    <tr style=\"text-align: right;\">\n      <th></th>\n      <th>Age</th>\n    </tr>\n    <tr>\n      <th>gender</th>\n      <th></th>\n    </tr>\n  </thead>\n  <tbody>\n    <tr>\n      <th>Female</th>\n      <td>50.522222</td>\n    </tr>\n    <tr>\n      <th>Male</th>\n      <td>51.640091</td>\n    </tr>\n  </tbody>\n</table>\n</div>"
     },
     "metadata": {},
     "execution_count": 15
    }
   ],
   "source": [
    "\n",
    "\n",
    "gender_table=pd.pivot_table(df_sort_surname,values=['Age'],index=['gender'])\n",
    "gender_table"
   ]
  },
  {
   "cell_type": "code",
   "execution_count": null,
   "metadata": {},
   "outputs": [],
   "source": []
  },
  {
   "cell_type": "code",
   "execution_count": null,
   "metadata": {},
   "outputs": [],
   "source": []
  }
 ]
}