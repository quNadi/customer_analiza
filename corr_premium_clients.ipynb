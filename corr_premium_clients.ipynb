{
 "metadata": {
  "language_info": {
   "codemirror_mode": {
    "name": "ipython",
    "version": 3
   },
   "file_extension": ".py",
   "mimetype": "text/x-python",
   "name": "python",
   "nbconvert_exporter": "python",
   "pygments_lexer": "ipython3",
   "version": "3.8.5-final"
  },
  "orig_nbformat": 2,
  "kernelspec": {
   "name": "python3",
   "display_name": "Python 3",
   "language": "python"
  }
 },
 "nbformat": 4,
 "nbformat_minor": 2,
 "cells": [
  {
   "cell_type": "code",
   "execution_count": 1,
   "metadata": {},
   "outputs": [
    {
     "output_type": "execute_result",
     "data": {
      "text/plain": [
       "      id      client premium_client    order postpone\n",
       "0      1       Rocks          False  1952.82    10:20\n",
       "1      2    Ugoletti           True  4632.58    11:46\n",
       "2      3    Farherty          False  3116.81     7:00\n",
       "3      4     Yesinin          False  5213.96     8:09\n",
       "4      5     Flucker          False   556.10     5:10\n",
       "..   ...         ...            ...      ...      ...\n",
       "495  496       Pepis           True  5083.43     4:47\n",
       "496  497  Risborough           True   699.15     3:29\n",
       "497  498     McAlroy           True  4682.65    20:51\n",
       "498  499    Kleinert           True  5149.81    10:21\n",
       "499  500     Fandrey          False  5893.80    11:20\n",
       "\n",
       "[500 rows x 5 columns]"
      ],
      "text/html": "<div>\n<style scoped>\n    .dataframe tbody tr th:only-of-type {\n        vertical-align: middle;\n    }\n\n    .dataframe tbody tr th {\n        vertical-align: top;\n    }\n\n    .dataframe thead th {\n        text-align: right;\n    }\n</style>\n<table border=\"1\" class=\"dataframe\">\n  <thead>\n    <tr style=\"text-align: right;\">\n      <th></th>\n      <th>id</th>\n      <th>client</th>\n      <th>premium_client</th>\n      <th>order</th>\n      <th>postpone</th>\n    </tr>\n  </thead>\n  <tbody>\n    <tr>\n      <th>0</th>\n      <td>1</td>\n      <td>Rocks</td>\n      <td>False</td>\n      <td>1952.82</td>\n      <td>10:20</td>\n    </tr>\n    <tr>\n      <th>1</th>\n      <td>2</td>\n      <td>Ugoletti</td>\n      <td>True</td>\n      <td>4632.58</td>\n      <td>11:46</td>\n    </tr>\n    <tr>\n      <th>2</th>\n      <td>3</td>\n      <td>Farherty</td>\n      <td>False</td>\n      <td>3116.81</td>\n      <td>7:00</td>\n    </tr>\n    <tr>\n      <th>3</th>\n      <td>4</td>\n      <td>Yesinin</td>\n      <td>False</td>\n      <td>5213.96</td>\n      <td>8:09</td>\n    </tr>\n    <tr>\n      <th>4</th>\n      <td>5</td>\n      <td>Flucker</td>\n      <td>False</td>\n      <td>556.10</td>\n      <td>5:10</td>\n    </tr>\n    <tr>\n      <th>...</th>\n      <td>...</td>\n      <td>...</td>\n      <td>...</td>\n      <td>...</td>\n      <td>...</td>\n    </tr>\n    <tr>\n      <th>495</th>\n      <td>496</td>\n      <td>Pepis</td>\n      <td>True</td>\n      <td>5083.43</td>\n      <td>4:47</td>\n    </tr>\n    <tr>\n      <th>496</th>\n      <td>497</td>\n      <td>Risborough</td>\n      <td>True</td>\n      <td>699.15</td>\n      <td>3:29</td>\n    </tr>\n    <tr>\n      <th>497</th>\n      <td>498</td>\n      <td>McAlroy</td>\n      <td>True</td>\n      <td>4682.65</td>\n      <td>20:51</td>\n    </tr>\n    <tr>\n      <th>498</th>\n      <td>499</td>\n      <td>Kleinert</td>\n      <td>True</td>\n      <td>5149.81</td>\n      <td>10:21</td>\n    </tr>\n    <tr>\n      <th>499</th>\n      <td>500</td>\n      <td>Fandrey</td>\n      <td>False</td>\n      <td>5893.80</td>\n      <td>11:20</td>\n    </tr>\n  </tbody>\n</table>\n<p>500 rows × 5 columns</p>\n</div>"
     },
     "metadata": {},
     "execution_count": 1
    }
   ],
   "source": [
    "import numpy as np  \n",
    "import pandas as pd \n",
    "\n",
    "#LOAD DATA CSV FILE\n",
    "df_order=pd.read_csv('datasets/premium_client.csv', header=0)\n",
    "df_order"
   ]
  },
  {
   "cell_type": "code",
   "execution_count": 2,
   "metadata": {},
   "outputs": [
    {
     "output_type": "execute_result",
     "data": {
      "text/plain": [
       "                MissingValues\n",
       "id                          0\n",
       "client                      0\n",
       "premium_client             12\n",
       "order                      12\n",
       "postpone                   12"
      ],
      "text/html": "<div>\n<style scoped>\n    .dataframe tbody tr th:only-of-type {\n        vertical-align: middle;\n    }\n\n    .dataframe tbody tr th {\n        vertical-align: top;\n    }\n\n    .dataframe thead th {\n        text-align: right;\n    }\n</style>\n<table border=\"1\" class=\"dataframe\">\n  <thead>\n    <tr style=\"text-align: right;\">\n      <th></th>\n      <th>MissingValues</th>\n    </tr>\n  </thead>\n  <tbody>\n    <tr>\n      <th>id</th>\n      <td>0</td>\n    </tr>\n    <tr>\n      <th>client</th>\n      <td>0</td>\n    </tr>\n    <tr>\n      <th>premium_client</th>\n      <td>12</td>\n    </tr>\n    <tr>\n      <th>order</th>\n      <td>12</td>\n    </tr>\n    <tr>\n      <th>postpone</th>\n      <td>12</td>\n    </tr>\n  </tbody>\n</table>\n</div>"
     },
     "metadata": {},
     "execution_count": 2
    }
   ],
   "source": [
    "#PREPARING DATA/cleaning data \n",
    "\n",
    "missing_data_counts=pd.DataFrame(df_order.isnull().sum(),columns=['MissingValues'])\n",
    "missing_data_counts\n",
    "\n"
   ]
  },
  {
   "cell_type": "code",
   "execution_count": 11,
   "metadata": {},
   "outputs": [],
   "source": [
    "#drop missing data\n",
    "df_order=df_order.dropna()"
   ]
  },
  {
   "cell_type": "code",
   "execution_count": 6,
   "metadata": {},
   "outputs": [
    {
     "output_type": "execute_result",
     "data": {
      "text/plain": [
       "premium_client\n",
       "False    3432.387383\n",
       "True     3298.973793\n",
       "Name: order, dtype: float64"
      ]
     },
     "metadata": {},
     "execution_count": 6
    }
   ],
   "source": [
    "#organizing data ANALIZA PREMIUM KLIENCI - MEDIANA SUMY ZAMÓWIENIA\n",
    "\n",
    "premium_order_data=df_order.order.groupby(df_order.premium_client)\n",
    "premium_order_data.mean()"
   ]
  },
  {
   "cell_type": "code",
   "execution_count": 8,
   "metadata": {},
   "outputs": [
    {
     "output_type": "execute_result",
     "data": {
      "text/plain": [
       "                      order\n",
       "premium_client             \n",
       "False           3432.387383\n",
       "True            3298.973793"
      ],
      "text/html": "<div>\n<style scoped>\n    .dataframe tbody tr th:only-of-type {\n        vertical-align: middle;\n    }\n\n    .dataframe tbody tr th {\n        vertical-align: top;\n    }\n\n    .dataframe thead th {\n        text-align: right;\n    }\n</style>\n<table border=\"1\" class=\"dataframe\">\n  <thead>\n    <tr style=\"text-align: right;\">\n      <th></th>\n      <th>order</th>\n    </tr>\n    <tr>\n      <th>premium_client</th>\n      <th></th>\n    </tr>\n  </thead>\n  <tbody>\n    <tr>\n      <th>False</th>\n      <td>3432.387383</td>\n    </tr>\n    <tr>\n      <th>True</th>\n      <td>3298.973793</td>\n    </tr>\n  </tbody>\n</table>\n</div>"
     },
     "metadata": {},
     "execution_count": 8
    }
   ],
   "source": [
    "#organizing data ANALIZA PREMIUM KLIENCI - ŚREDNIA SUMY ZAMÓWIENIA\n",
    "\n",
    "avg_order=pd.pivot_table(df_order,values=['order'],index=['premium_client'])\n",
    "avg_order"
   ]
  },
  {
   "cell_type": "code",
   "execution_count": null,
   "metadata": {},
   "outputs": [],
   "source": []
  }
 ]
}