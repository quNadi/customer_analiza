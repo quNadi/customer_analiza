{
 "metadata": {
  "language_info": {
   "codemirror_mode": {
    "name": "ipython",
    "version": 3
   },
   "file_extension": ".py",
   "mimetype": "text/x-python",
   "name": "python",
   "nbconvert_exporter": "python",
   "pygments_lexer": "ipython3",
   "version": "3.8.5-final"
  },
  "orig_nbformat": 2,
  "kernelspec": {
   "name": "python3",
   "display_name": "Python 3",
   "language": "python"
  }
 },
 "nbformat": 4,
 "nbformat_minor": 2,
 "cells": [
  {
   "cell_type": "code",
   "execution_count": 6,
   "metadata": {
    "tags": []
   },
   "outputs": [],
   "source": [
    "#LOAD CLIENT DATA FROM SQL FILE\n",
    "import pandas as pd\n",
    "import sqlite3\n",
    "\n",
    "\n",
    "\n",
    "\n"
   ]
  },
  {
   "cell_type": "code",
   "execution_count": 7,
   "metadata": {},
   "outputs": [
    {
     "output_type": "execute_result",
     "data": {
      "text/plain": [
       "      id  first_name   last_name        location   cat   dog other frequency  \\\n",
       "0      1    Betteann     Semaine  Czech Republic     0     1     1      week   \n",
       "1      2    Marjorie      Seamon            None     0     1     0      week   \n",
       "2      3     Filbert      Napoli          Poland     1     0     0     month   \n",
       "3      4     Helenka      Yaakov          Poland     1     0     0      week   \n",
       "4      5        Neel  Joselevitz  Czech Republic     0     0     1   quarter   \n",
       "..   ...         ...         ...             ...   ...   ...   ...       ...   \n",
       "495  496        Dael      Maylam          Poland     0     0     1      year   \n",
       "496  497      Nonnah      Habens            None     0     1     0      year   \n",
       "497  498     Derward   Sandeford          Poland  None  None  None      year   \n",
       "498  499  Claudianus   Abelevitz         Germany  None  None  None     month   \n",
       "499  500       Colan      Goodey          Poland     1     0     0     month   \n",
       "\n",
       "     sum_order  \n",
       "0      2924.02  \n",
       "1      3548.38  \n",
       "2      3114.94  \n",
       "3      1412.04  \n",
       "4      5326.35  \n",
       "..         ...  \n",
       "495    1799.72  \n",
       "496    2629.06  \n",
       "497    3559.92  \n",
       "498     145.19  \n",
       "499    3293.49  \n",
       "\n",
       "[500 rows x 9 columns]"
      ],
      "text/html": "<div>\n<style scoped>\n    .dataframe tbody tr th:only-of-type {\n        vertical-align: middle;\n    }\n\n    .dataframe tbody tr th {\n        vertical-align: top;\n    }\n\n    .dataframe thead th {\n        text-align: right;\n    }\n</style>\n<table border=\"1\" class=\"dataframe\">\n  <thead>\n    <tr style=\"text-align: right;\">\n      <th></th>\n      <th>id</th>\n      <th>first_name</th>\n      <th>last_name</th>\n      <th>location</th>\n      <th>cat</th>\n      <th>dog</th>\n      <th>other</th>\n      <th>frequency</th>\n      <th>sum_order</th>\n    </tr>\n  </thead>\n  <tbody>\n    <tr>\n      <th>0</th>\n      <td>1</td>\n      <td>Betteann</td>\n      <td>Semaine</td>\n      <td>Czech Republic</td>\n      <td>0</td>\n      <td>1</td>\n      <td>1</td>\n      <td>week</td>\n      <td>2924.02</td>\n    </tr>\n    <tr>\n      <th>1</th>\n      <td>2</td>\n      <td>Marjorie</td>\n      <td>Seamon</td>\n      <td>None</td>\n      <td>0</td>\n      <td>1</td>\n      <td>0</td>\n      <td>week</td>\n      <td>3548.38</td>\n    </tr>\n    <tr>\n      <th>2</th>\n      <td>3</td>\n      <td>Filbert</td>\n      <td>Napoli</td>\n      <td>Poland</td>\n      <td>1</td>\n      <td>0</td>\n      <td>0</td>\n      <td>month</td>\n      <td>3114.94</td>\n    </tr>\n    <tr>\n      <th>3</th>\n      <td>4</td>\n      <td>Helenka</td>\n      <td>Yaakov</td>\n      <td>Poland</td>\n      <td>1</td>\n      <td>0</td>\n      <td>0</td>\n      <td>week</td>\n      <td>1412.04</td>\n    </tr>\n    <tr>\n      <th>4</th>\n      <td>5</td>\n      <td>Neel</td>\n      <td>Joselevitz</td>\n      <td>Czech Republic</td>\n      <td>0</td>\n      <td>0</td>\n      <td>1</td>\n      <td>quarter</td>\n      <td>5326.35</td>\n    </tr>\n    <tr>\n      <th>...</th>\n      <td>...</td>\n      <td>...</td>\n      <td>...</td>\n      <td>...</td>\n      <td>...</td>\n      <td>...</td>\n      <td>...</td>\n      <td>...</td>\n      <td>...</td>\n    </tr>\n    <tr>\n      <th>495</th>\n      <td>496</td>\n      <td>Dael</td>\n      <td>Maylam</td>\n      <td>Poland</td>\n      <td>0</td>\n      <td>0</td>\n      <td>1</td>\n      <td>year</td>\n      <td>1799.72</td>\n    </tr>\n    <tr>\n      <th>496</th>\n      <td>497</td>\n      <td>Nonnah</td>\n      <td>Habens</td>\n      <td>None</td>\n      <td>0</td>\n      <td>1</td>\n      <td>0</td>\n      <td>year</td>\n      <td>2629.06</td>\n    </tr>\n    <tr>\n      <th>497</th>\n      <td>498</td>\n      <td>Derward</td>\n      <td>Sandeford</td>\n      <td>Poland</td>\n      <td>None</td>\n      <td>None</td>\n      <td>None</td>\n      <td>year</td>\n      <td>3559.92</td>\n    </tr>\n    <tr>\n      <th>498</th>\n      <td>499</td>\n      <td>Claudianus</td>\n      <td>Abelevitz</td>\n      <td>Germany</td>\n      <td>None</td>\n      <td>None</td>\n      <td>None</td>\n      <td>month</td>\n      <td>145.19</td>\n    </tr>\n    <tr>\n      <th>499</th>\n      <td>500</td>\n      <td>Colan</td>\n      <td>Goodey</td>\n      <td>Poland</td>\n      <td>1</td>\n      <td>0</td>\n      <td>0</td>\n      <td>month</td>\n      <td>3293.49</td>\n    </tr>\n  </tbody>\n</table>\n<p>500 rows × 9 columns</p>\n</div>"
     },
     "metadata": {},
     "execution_count": 7
    }
   ],
   "source": [
    "#file.sql change > sqlite3 file.db\n",
    "# terminal cat client_zoo.sql | sqlite3 clientzoo.db\n",
    "\n",
    "from sqlalchemy import create_engine\n",
    "\n",
    "file_db='datasets/clientzoo.db'\n",
    "\n",
    "engine=create_engine(\"sqlite:///{}\".format(file_db))\n",
    "sql='SELECT * from client_zoo'\n",
    "\n",
    "order_data=pd.read_sql(sql,engine)\n",
    "order_data"
   ]
  },
  {
   "cell_type": "code",
   "execution_count": 11,
   "metadata": {},
   "outputs": [
    {
     "output_type": "execute_result",
     "data": {
      "text/plain": [
       "count     482.000000\n",
       "mean     2881.633610\n",
       "std      1753.071301\n",
       "min        10.990000\n",
       "25%      1318.520000\n",
       "50%      2884.630000\n",
       "75%      4373.762500\n",
       "max      5988.540000\n",
       "Name: sum_order, dtype: float64"
      ]
     },
     "metadata": {},
     "execution_count": 11
    }
   ],
   "source": [
    "# BASIC overall INFO -SUMA zamówienia \n",
    "order_data.sum_order.describe()"
   ]
  },
  {
   "cell_type": "code",
   "execution_count": 19,
   "metadata": {},
   "outputs": [
    {
     "output_type": "execute_result",
     "data": {
      "text/plain": [
       "<bound method Series.isna of 0         Semaine\n",
       "2          Napoli\n",
       "3          Yaakov\n",
       "4      Joselevitz\n",
       "6           Leere\n",
       "          ...    \n",
       "483      Elletson\n",
       "485     Dollimore\n",
       "493          Held\n",
       "495        Maylam\n",
       "499        Goodey\n",
       "Name: last_name, Length: 281, dtype: object>"
      ]
     },
     "metadata": {},
     "execution_count": 19
    }
   ],
   "source": [
    "#PREPARING DATA \n",
    "#cleaning DATA \n",
    "\n",
    "#ile jest NaN \n",
    "order_data.last_name.isna   #sprawdzenie jakie dane Missing/Nan/Null/Braki"
   ]
  },
  {
   "cell_type": "code",
   "execution_count": null,
   "metadata": {},
   "outputs": [],
   "source": []
  },
  {
   "cell_type": "code",
   "execution_count": 15,
   "metadata": {},
   "outputs": [
    {
     "output_type": "execute_result",
     "data": {
      "text/plain": [
       "      id first_name   last_name        location cat dog other frequency  \\\n",
       "0      1   Betteann     Semaine  Czech Republic   0   1     1      week   \n",
       "2      3    Filbert      Napoli          Poland   1   0     0     month   \n",
       "3      4    Helenka      Yaakov          Poland   1   0     0      week   \n",
       "4      5       Neel  Joselevitz  Czech Republic   0   0     1   quarter   \n",
       "6      7    Celinka       Leere          Poland   1   1     0      week   \n",
       "..   ...        ...         ...             ...  ..  ..   ...       ...   \n",
       "483  484      Latia    Elletson          Poland   1   0     1   quarter   \n",
       "485  486       Birk   Dollimore  Czech Republic   0   0     0      week   \n",
       "493  494     Lethia        Held  Czech Republic   0   0     0      year   \n",
       "495  496       Dael      Maylam          Poland   0   0     1      year   \n",
       "499  500      Colan      Goodey          Poland   1   0     0     month   \n",
       "\n",
       "     sum_order  \n",
       "0      2924.02  \n",
       "2      3114.94  \n",
       "3      1412.04  \n",
       "4      5326.35  \n",
       "6       200.02  \n",
       "..         ...  \n",
       "483     328.61  \n",
       "485    3739.64  \n",
       "493     754.38  \n",
       "495    1799.72  \n",
       "499    3293.49  \n",
       "\n",
       "[281 rows x 9 columns]"
      ],
      "text/html": "<div>\n<style scoped>\n    .dataframe tbody tr th:only-of-type {\n        vertical-align: middle;\n    }\n\n    .dataframe tbody tr th {\n        vertical-align: top;\n    }\n\n    .dataframe thead th {\n        text-align: right;\n    }\n</style>\n<table border=\"1\" class=\"dataframe\">\n  <thead>\n    <tr style=\"text-align: right;\">\n      <th></th>\n      <th>id</th>\n      <th>first_name</th>\n      <th>last_name</th>\n      <th>location</th>\n      <th>cat</th>\n      <th>dog</th>\n      <th>other</th>\n      <th>frequency</th>\n      <th>sum_order</th>\n    </tr>\n  </thead>\n  <tbody>\n    <tr>\n      <th>0</th>\n      <td>1</td>\n      <td>Betteann</td>\n      <td>Semaine</td>\n      <td>Czech Republic</td>\n      <td>0</td>\n      <td>1</td>\n      <td>1</td>\n      <td>week</td>\n      <td>2924.02</td>\n    </tr>\n    <tr>\n      <th>2</th>\n      <td>3</td>\n      <td>Filbert</td>\n      <td>Napoli</td>\n      <td>Poland</td>\n      <td>1</td>\n      <td>0</td>\n      <td>0</td>\n      <td>month</td>\n      <td>3114.94</td>\n    </tr>\n    <tr>\n      <th>3</th>\n      <td>4</td>\n      <td>Helenka</td>\n      <td>Yaakov</td>\n      <td>Poland</td>\n      <td>1</td>\n      <td>0</td>\n      <td>0</td>\n      <td>week</td>\n      <td>1412.04</td>\n    </tr>\n    <tr>\n      <th>4</th>\n      <td>5</td>\n      <td>Neel</td>\n      <td>Joselevitz</td>\n      <td>Czech Republic</td>\n      <td>0</td>\n      <td>0</td>\n      <td>1</td>\n      <td>quarter</td>\n      <td>5326.35</td>\n    </tr>\n    <tr>\n      <th>6</th>\n      <td>7</td>\n      <td>Celinka</td>\n      <td>Leere</td>\n      <td>Poland</td>\n      <td>1</td>\n      <td>1</td>\n      <td>0</td>\n      <td>week</td>\n      <td>200.02</td>\n    </tr>\n    <tr>\n      <th>...</th>\n      <td>...</td>\n      <td>...</td>\n      <td>...</td>\n      <td>...</td>\n      <td>...</td>\n      <td>...</td>\n      <td>...</td>\n      <td>...</td>\n      <td>...</td>\n    </tr>\n    <tr>\n      <th>483</th>\n      <td>484</td>\n      <td>Latia</td>\n      <td>Elletson</td>\n      <td>Poland</td>\n      <td>1</td>\n      <td>0</td>\n      <td>1</td>\n      <td>quarter</td>\n      <td>328.61</td>\n    </tr>\n    <tr>\n      <th>485</th>\n      <td>486</td>\n      <td>Birk</td>\n      <td>Dollimore</td>\n      <td>Czech Republic</td>\n      <td>0</td>\n      <td>0</td>\n      <td>0</td>\n      <td>week</td>\n      <td>3739.64</td>\n    </tr>\n    <tr>\n      <th>493</th>\n      <td>494</td>\n      <td>Lethia</td>\n      <td>Held</td>\n      <td>Czech Republic</td>\n      <td>0</td>\n      <td>0</td>\n      <td>0</td>\n      <td>year</td>\n      <td>754.38</td>\n    </tr>\n    <tr>\n      <th>495</th>\n      <td>496</td>\n      <td>Dael</td>\n      <td>Maylam</td>\n      <td>Poland</td>\n      <td>0</td>\n      <td>0</td>\n      <td>1</td>\n      <td>year</td>\n      <td>1799.72</td>\n    </tr>\n    <tr>\n      <th>499</th>\n      <td>500</td>\n      <td>Colan</td>\n      <td>Goodey</td>\n      <td>Poland</td>\n      <td>1</td>\n      <td>0</td>\n      <td>0</td>\n      <td>month</td>\n      <td>3293.49</td>\n    </tr>\n  </tbody>\n</table>\n<p>281 rows × 9 columns</p>\n</div>"
     },
     "metadata": {},
     "execution_count": 15
    }
   ],
   "source": [
    "#PREPARING DATA \n",
    "#cleaning DATA \n",
    "#>>MISSING INFO -drop rows with missing info\n",
    "\n",
    "order_data=order_data.dropna()\n",
    "order_data\n",
    "#z 500 klientów wybrakowane dane z pozostało 281 klientów"
   ]
  },
  {
   "cell_type": "code",
   "execution_count": 25,
   "metadata": {},
   "outputs": [
    {
     "output_type": "execute_result",
     "data": {
      "text/plain": [
       "0      False\n",
       "2      False\n",
       "3      False\n",
       "4      False\n",
       "6      False\n",
       "       ...  \n",
       "483    False\n",
       "485    False\n",
       "493    False\n",
       "495    False\n",
       "499    False\n",
       "Length: 281, dtype: bool"
      ]
     },
     "metadata": {},
     "execution_count": 25
    }
   ],
   "source": [
    "#>>check duplicated data \n",
    "order_data.duplicated()  #nie ma powtarzajacych się wpisów"
   ]
  },
  {
   "cell_type": "code",
   "execution_count": 31,
   "metadata": {},
   "outputs": [
    {
     "output_type": "execute_result",
     "data": {
      "text/plain": [
       "      id  first_name    last_name        location cat dog other frequency  \\\n",
       "124  125    Sharline       Sonier  Czech Republic   0   0     1      year   \n",
       "61    62         Dar       Sueter          Poland   0   1     1      year   \n",
       "89    90       Zelda     Woolfitt          Poland   1   0     0     month   \n",
       "252  253       Manda       Volkes         Germany   1   1     1   quarter   \n",
       "332  333       Aguie    Pingstone          Poland   1   0     1     month   \n",
       "..   ...         ...          ...             ...  ..  ..   ...       ...   \n",
       "292  293        Lusa     Danskine  Czech Republic   0   0     0      week   \n",
       "460  461       Saxon  Chattelaine          Poland   1   0     0      week   \n",
       "278  279  Petronille    Lilbourne          Poland   0   0     1     month   \n",
       "48    49       Celka      Stanner  Czech Republic   0   0     0   quarter   \n",
       "354  355       Meryl      Ladewig  Czech Republic   1   0     1     month   \n",
       "\n",
       "     sum_order  \n",
       "124      19.11  \n",
       "61       22.37  \n",
       "89       32.83  \n",
       "252      78.12  \n",
       "332      86.81  \n",
       "..         ...  \n",
       "292    5868.36  \n",
       "460    5920.96  \n",
       "278    5927.22  \n",
       "48     5947.87  \n",
       "354    5988.54  \n",
       "\n",
       "[281 rows x 9 columns]"
      ],
      "text/html": "<div>\n<style scoped>\n    .dataframe tbody tr th:only-of-type {\n        vertical-align: middle;\n    }\n\n    .dataframe tbody tr th {\n        vertical-align: top;\n    }\n\n    .dataframe thead th {\n        text-align: right;\n    }\n</style>\n<table border=\"1\" class=\"dataframe\">\n  <thead>\n    <tr style=\"text-align: right;\">\n      <th></th>\n      <th>id</th>\n      <th>first_name</th>\n      <th>last_name</th>\n      <th>location</th>\n      <th>cat</th>\n      <th>dog</th>\n      <th>other</th>\n      <th>frequency</th>\n      <th>sum_order</th>\n    </tr>\n  </thead>\n  <tbody>\n    <tr>\n      <th>124</th>\n      <td>125</td>\n      <td>Sharline</td>\n      <td>Sonier</td>\n      <td>Czech Republic</td>\n      <td>0</td>\n      <td>0</td>\n      <td>1</td>\n      <td>year</td>\n      <td>19.11</td>\n    </tr>\n    <tr>\n      <th>61</th>\n      <td>62</td>\n      <td>Dar</td>\n      <td>Sueter</td>\n      <td>Poland</td>\n      <td>0</td>\n      <td>1</td>\n      <td>1</td>\n      <td>year</td>\n      <td>22.37</td>\n    </tr>\n    <tr>\n      <th>89</th>\n      <td>90</td>\n      <td>Zelda</td>\n      <td>Woolfitt</td>\n      <td>Poland</td>\n      <td>1</td>\n      <td>0</td>\n      <td>0</td>\n      <td>month</td>\n      <td>32.83</td>\n    </tr>\n    <tr>\n      <th>252</th>\n      <td>253</td>\n      <td>Manda</td>\n      <td>Volkes</td>\n      <td>Germany</td>\n      <td>1</td>\n      <td>1</td>\n      <td>1</td>\n      <td>quarter</td>\n      <td>78.12</td>\n    </tr>\n    <tr>\n      <th>332</th>\n      <td>333</td>\n      <td>Aguie</td>\n      <td>Pingstone</td>\n      <td>Poland</td>\n      <td>1</td>\n      <td>0</td>\n      <td>1</td>\n      <td>month</td>\n      <td>86.81</td>\n    </tr>\n    <tr>\n      <th>...</th>\n      <td>...</td>\n      <td>...</td>\n      <td>...</td>\n      <td>...</td>\n      <td>...</td>\n      <td>...</td>\n      <td>...</td>\n      <td>...</td>\n      <td>...</td>\n    </tr>\n    <tr>\n      <th>292</th>\n      <td>293</td>\n      <td>Lusa</td>\n      <td>Danskine</td>\n      <td>Czech Republic</td>\n      <td>0</td>\n      <td>0</td>\n      <td>0</td>\n      <td>week</td>\n      <td>5868.36</td>\n    </tr>\n    <tr>\n      <th>460</th>\n      <td>461</td>\n      <td>Saxon</td>\n      <td>Chattelaine</td>\n      <td>Poland</td>\n      <td>1</td>\n      <td>0</td>\n      <td>0</td>\n      <td>week</td>\n      <td>5920.96</td>\n    </tr>\n    <tr>\n      <th>278</th>\n      <td>279</td>\n      <td>Petronille</td>\n      <td>Lilbourne</td>\n      <td>Poland</td>\n      <td>0</td>\n      <td>0</td>\n      <td>1</td>\n      <td>month</td>\n      <td>5927.22</td>\n    </tr>\n    <tr>\n      <th>48</th>\n      <td>49</td>\n      <td>Celka</td>\n      <td>Stanner</td>\n      <td>Czech Republic</td>\n      <td>0</td>\n      <td>0</td>\n      <td>0</td>\n      <td>quarter</td>\n      <td>5947.87</td>\n    </tr>\n    <tr>\n      <th>354</th>\n      <td>355</td>\n      <td>Meryl</td>\n      <td>Ladewig</td>\n      <td>Czech Republic</td>\n      <td>1</td>\n      <td>0</td>\n      <td>1</td>\n      <td>month</td>\n      <td>5988.54</td>\n    </tr>\n  </tbody>\n</table>\n<p>281 rows × 9 columns</p>\n</div>"
     },
     "metadata": {},
     "execution_count": 31
    }
   ],
   "source": [
    "#ORGANIZING DATA  SORTING \n",
    "order_data.sort_values(by=['sum_order','frequency']) #min sum_order 19.11 a max 5988.54\n",
    "\n",
    "\n"
   ]
  },
  {
   "cell_type": "code",
   "execution_count": 36,
   "metadata": {},
   "outputs": [
    {
     "output_type": "execute_result",
     "data": {
      "text/plain": [
       "                  sum_order\n",
       "location                   \n",
       "Austria         4202.705000\n",
       "Czech Republic  3092.917590\n",
       "Germany         3180.742857\n",
       "Poland          2752.790879"
      ],
      "text/html": "<div>\n<style scoped>\n    .dataframe tbody tr th:only-of-type {\n        vertical-align: middle;\n    }\n\n    .dataframe tbody tr th {\n        vertical-align: top;\n    }\n\n    .dataframe thead th {\n        text-align: right;\n    }\n</style>\n<table border=\"1\" class=\"dataframe\">\n  <thead>\n    <tr style=\"text-align: right;\">\n      <th></th>\n      <th>sum_order</th>\n    </tr>\n    <tr>\n      <th>location</th>\n      <th></th>\n    </tr>\n  </thead>\n  <tbody>\n    <tr>\n      <th>Austria</th>\n      <td>4202.705000</td>\n    </tr>\n    <tr>\n      <th>Czech Republic</th>\n      <td>3092.917590</td>\n    </tr>\n    <tr>\n      <th>Germany</th>\n      <td>3180.742857</td>\n    </tr>\n    <tr>\n      <th>Poland</th>\n      <td>2752.790879</td>\n    </tr>\n  </tbody>\n</table>\n</div>"
     },
     "metadata": {},
     "execution_count": 36
    }
   ],
   "source": [
    "#AGGREGATE SORTING\n",
    "# example Sum of Order - Location Origin State\n",
    "\n",
    "pd.pivot_table(order_data,values=['sum_order'], index=['location'])"
   ]
  },
  {
   "cell_type": "code",
   "execution_count": 42,
   "metadata": {},
   "outputs": [
    {
     "output_type": "execute_result",
     "data": {
      "text/plain": [
       "                sum_order\n",
       "location                 \n",
       "Czech Republic    5868.36\n",
       "Germany           5489.46\n",
       "Poland            5920.96"
      ],
      "text/html": "<div>\n<style scoped>\n    .dataframe tbody tr th:only-of-type {\n        vertical-align: middle;\n    }\n\n    .dataframe tbody tr th {\n        vertical-align: top;\n    }\n\n    .dataframe thead th {\n        text-align: right;\n    }\n</style>\n<table border=\"1\" class=\"dataframe\">\n  <thead>\n    <tr style=\"text-align: right;\">\n      <th></th>\n      <th>sum_order</th>\n    </tr>\n    <tr>\n      <th>location</th>\n      <th></th>\n    </tr>\n  </thead>\n  <tbody>\n    <tr>\n      <th>Czech Republic</th>\n      <td>5868.36</td>\n    </tr>\n    <tr>\n      <th>Germany</th>\n      <td>5489.46</td>\n    </tr>\n    <tr>\n      <th>Poland</th>\n      <td>5920.96</td>\n    </tr>\n  </tbody>\n</table>\n</div>"
     },
     "metadata": {},
     "execution_count": 42
    }
   ],
   "source": [
    "df_freq=order_data.loc[order_data['frequency']==\"week\"]\n",
    "pd.pivot_table(df_freq,index=['location'],aggfunc='max',values=['sum_order'])"
   ]
  },
  {
   "cell_type": "code",
   "execution_count": null,
   "metadata": {},
   "outputs": [],
   "source": []
  }
 ]
}