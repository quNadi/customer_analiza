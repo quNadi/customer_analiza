{
 "metadata": {
  "language_info": {
   "codemirror_mode": {
    "name": "ipython",
    "version": 3
   },
   "file_extension": ".py",
   "mimetype": "text/x-python",
   "name": "python",
   "nbconvert_exporter": "python",
   "pygments_lexer": "ipython3",
   "version": "3.8.5-final"
  },
  "orig_nbformat": 2,
  "kernelspec": {
   "name": "python3",
   "display_name": "Python 3",
   "language": "python"
  }
 },
 "nbformat": 4,
 "nbformat_minor": 2,
 "cells": [
  {
   "cell_type": "code",
   "execution_count": 4,
   "metadata": {
    "tags": [
     "outputPrepend"
    ]
   },
   "outputs": [
    {
     "output_type": "stream",
     "name": "stdout",
     "text": [
      "', 390.24)\n(218, 'Leonanie', 'Collin', 'Poland', '1', '0', '1', 'month', 3197.89)\n(219, 'Kellen', 'Waggitt', 'Poland', '1', '0', '0', 'month', 2899.8)\n(220, 'Kayley', 'Balentyne', None, '1', '0', '1', 'quarter', 1033.94)\n(221, 'Grethel', 'Blundel', 'Poland', '0', '0', '1', 'quarter', 1443.2)\n(222, 'Cyril', 'Draper', 'Czech Republic', '0', '1', '1', 'year', 5249.66)\n(223, 'Dolores', 'Roggerone', 'Poland', '0', '0', '1', 'week', 1596.72)\n(224, 'Jermaine', 'Farrear', 'Poland', '0', '1', '0', 'month', 2020.58)\n(225, 'Karolina', 'Minards', 'Poland', '0', '1', '1', 'month', 2888.26)\n(226, 'Paige', 'Splain', None, '0', '0', '1', 'month', 1904.42)\n(227, 'Lezlie', 'Silber', 'Poland', '1', '0', '1', 'quarter', 4637.47)\n(228, 'Lanny', \"O'Shea\", 'Poland', '1', '1', '0', 'quarter', 2454.4)\n(229, 'Rosalie', 'Godrich', None, '1', '1', '1', 'quarter', 3465.88)\n(230, 'Adrienne', 'Oakeby', None, '0', '1', '1', 'month', 2175.11)\n(231, 'Silvana', 'Robertz', 'Czech Republic', '0', '1', '0', 'week', 4898.62)\n(232, 'Hedwig', 'Stockall', 'Poland', '1', '1', '1', 'month', 4144.35)\n(233, 'Verla', 'Ganforthe', 'Poland', '0', '1', '0', 'month', 1064.01)\n(234, 'Coraline', 'Tripcony', 'Czech Republic', '0', '0', '0', 'quarter', 1219.61)\n(235, 'Jacki', 'Crookshank', 'Poland', '0', '0', '1', 'week', 841.76)\n(236, 'Deena', 'Bradbeer', 'Czech Republic', '0', '0', '1', 'year', 999.07)\n(237, 'Sarita', 'Santostefano.', None, '0', '1', '1', 'month', 4339.35)\n(238, 'Frederick', 'Kirrage', 'Poland', '0', '1', '1', 'quarter', 2583.89)\n(239, 'Stefanie', 'Wardingly', 'Poland', '0', '0', '1', 'year', 2770.25)\n(240, 'Florinda', 'Borles', None, '1', '1', '1', 'week', 13.63)\n(241, 'Shem', 'Stepto', None, '0', '0', '1', 'week', 4533.31)\n(242, 'Valeria', 'Pearlman', 'Czech Republic', None, None, None, 'year', 4308.85)\n(243, 'Delcina', 'Buick', 'Poland', '1', '1', '0', 'quarter', 1230.51)\n(244, 'Row', 'Wybourne', 'Czech Republic', '1', '1', '0', 'week', 3173.33)\n(245, 'Linzy', 'Dines', 'Czech Republic', '1', '1', '0', 'week', 4158.53)\n(246, 'Zara', 'Burlay', None, None, None, None, 'quarter', 5784.14)\n(247, 'Diane-marie', 'Van Merwe', 'Poland', '0', '1', '0', 'month', 559.46)\n(248, 'Salvador', 'Flay', 'Czech Republic', '0', '1', '1', 'month', 4820.75)\n(249, 'Eva', 'Drysdall', 'Poland', None, None, None, 'week', 1332.62)\n(250, 'Ethelbert', 'Espinet', 'Poland', '1', '0', '1', 'month', 3677.45)\n(251, 'Giffer', 'Slane', None, '1', '0', '0', 'month', 672.85)\n(252, 'Mirella', 'Posnett', None, '1', '1', '0', 'quarter', 395.13)\n(253, 'Manda', 'Volkes', 'Germany', '1', '1', '1', 'quarter', 78.12)\n(254, 'Obadiah', 'Allenson', 'Czech Republic', '1', '0', '0', 'year', 1274.26)\n(255, 'Sandor', 'Leghorn', 'Poland', '1', '0', '0', 'week', 1349.33)\n(256, 'Lindsey', 'Le Brum', None, '0', '0', '0', 'week', 182.88)\n(257, 'Lane', 'Plowright', 'Czech Republic', '1', '1', '1', 'month', 5760.73)\n(258, 'Darsie', 'Tesimon', 'Poland', '0', '0', '1', 'year', 1105.33)\n(259, 'Taylor', 'Nugent', 'Poland', '1', '1', '0', 'year', 3462.72)\n(260, 'Price', 'Rennox', 'Poland', '1', '1', '1', 'week', 5762.09)\n(261, 'Joelie', 'Rosita', 'Poland', '0', '0', '1', 'quarter', 5230.79)\n(262, 'Cherie', 'Scougal', 'Poland', '1', '0', '0', 'year', 5122.56)\n(263, 'Gardener', 'Creenan', 'Poland', '0', '1', '0', 'quarter', 5280.36)\n(264, 'Elisabeth', 'Linebarger', 'Czech Republic', None, None, None, 'year', 1986.12)\n(265, 'Andee', 'Haith', 'Czech Republic', '1', '0', '0', 'week', 5528.2)\n(266, 'Sherlocke', 'Cargenven', None, '1', '1', '0', 'week', 4519.4)\n(267, 'Danna', 'Zavattero', None, '0', '0', '1', 'quarter', 1552.43)\n(268, 'Jesus', 'Skyrme', 'Czech Republic', '0', '1', '0', 'quarter', 821.07)\n(269, 'Constancia', 'Jarrett', 'Poland', '1', '0', '0', 'week', 4812.29)\n(270, 'Evangelina', 'Antognelli', 'Poland', '0', '0', '1', 'year', 2780.8)\n(271, 'Marys', 'Craythorn', 'Poland', '1', '0', '0', 'week', 5645.36)\n(272, 'Edward', 'Ketts', None, '1', '1', '0', 'quarter', 5579.14)\n(273, 'Fleming', 'Sheldrake', None, '0', '1', '1', 'week', 5445.18)\n(274, 'Coretta', 'Euesden', 'Poland', '0', '1', '0', None, None)\n(275, 'Kimbell', 'Turner', 'Poland', '0', '1', '1', 'week', 1531.17)\n(276, 'Sheba', 'Ashpole', 'Poland', None, None, None, None, None)\n(277, 'Tanhya', 'Brightwell', 'Poland', '0', '0', '0', 'week', 219.4)\n(278, 'Johnette', 'Halsall', 'Poland', None, None, None, 'week', 1303.67)\n(279, 'Petronille', 'Lilbourne', 'Poland', '0', '0', '1', 'month', 5927.22)\n(280, 'Arron', 'Aleksandrov', 'Czech Republic', '1', '0', '0', 'month', 1719)\n(281, 'Kyrstin', 'Catling', 'Czech Republic', None, None, None, 'week', 5242.93)\n(282, 'Lilia', 'Hallagan', None, '0', '0', '1', 'year', 207.13)\n(283, 'Lorelei', 'Fulop', 'Poland', '1', '0', '0', 'week', 590.37)\n(284, 'Lutero', 'Tiesman', None, None, None, None, 'quarter', 5773.9)\n(285, 'Devin', 'Cardon', 'Czech Republic', '0', '1', '0', 'quarter', 5349.99)\n(286, 'Ellen', 'Fumagallo', None, '1', '0', '0', None, None)\n(287, 'Bobbette', 'Weildish', 'Czech Republic', '0', '0', '0', 'year', 4313.83)\n(288, 'Allina', 'Laugheran', 'Czech Republic', '0', '1', '0', 'quarter', 5270.12)\n(289, 'Marlie', 'Hunnicutt', 'Poland', '0', '0', '0', 'year', 274.54)\n(290, 'Fidole', 'Conor', None, '0', '1', '1', 'quarter', 1741.86)\n(291, 'Annaliese', 'Ungerer', 'Poland', '0', '0', '0', 'month', 2324.19)\n(292, 'Malachi', 'Cowans', 'Czech Republic', '1', '0', '0', 'month', 5601.12)\n(293, 'Lusa', 'Danskine', 'Czech Republic', '0', '0', '0', 'week', 5868.36)\n(294, 'Jean', 'April', None, '0', '0', '0', 'month', 1668.04)\n(295, 'Laney', 'Minnock', None, '0', '0', '0', 'quarter', 5973.73)\n(296, 'Fredek', 'Vasilik', 'Czech Republic', '1', '0', '1', 'month', 2285.47)\n(297, 'Keven', 'Mingo', 'Germany', '0', '0', '0', 'week', 2133.93)\n(298, 'Quillan', 'Larkworthy', 'Poland', '0', '0', '1', 'year', 1855.28)\n(299, 'Anthiathia', 'Brockest', None, '0', '1', '1', 'quarter', 3760.67)\n(300, 'Hildegarde', 'Ciccone', 'Poland', '1', '0', '0', 'month', 4703.93)\n(301, 'Rebekah', 'Flanaghan', None, '1', '0', '1', 'quarter', 113.7)\n(302, 'Debbi', 'Dominighi', 'Czech Republic', '0', '0', '0', 'week', 2563.92)\n(303, 'Gerhardine', 'Brankley', 'Poland', '1', '0', '0', 'month', 5155.61)\n(304, 'Keri', 'Baigent', 'Poland', '1', '0', '1', 'quarter', 2855.93)\n(305, 'Yance', 'Brockherst', None, '0', '1', '1', 'quarter', 2280.17)\n(306, 'Fanchette', 'Sutheran', None, '0', '1', '0', 'month', 1504.37)\n(307, 'Coralyn', 'Joules', 'Poland', '0', '0', '0', 'month', 107.6)\n(308, 'Joelle', 'Laister', 'Czech Republic', '1', '1', '0', 'quarter', 401.9)\n(309, 'Minnnie', 'Winterbotham', None, '1', '1', '1', None, None)\n(310, 'Sumner', 'Parks', 'Poland', '1', '1', '0', 'week', 473.5)\n(311, 'Kipp', 'Cantrill', 'Germany', '1', '0', '0', 'year', 4575.33)\n(312, 'Dalenna', 'Elnor', None, None, None, None, 'month', 3702.21)\n(313, 'Keely', 'Catling', 'Poland', '1', '0', '0', 'quarter', 2966.15)\n(314, 'Peirce', 'Raynard', 'Czech Republic', None, None, None, 'week', 1746.63)\n(315, 'Philipa', 'Bysshe', 'Czech Republic', '0', '1', '1', None, None)\n(316, 'Kerianne', 'Naden', 'Czech Republic', '1', '0', '1', 'week', 954.93)\n(317, 'Neal', 'Lewknor', None, '0', '0', '1', 'quarter', 1016.7)\n(318, 'Gil', 'Suggitt', 'Czech Republic', '0', '0', '1', 'quarter', 1287.96)\n(319, 'Wynne', 'Faux', None, '1', '0', '1', 'quarter', 374.67)\n(320, 'Myrlene', 'Coghlin', 'Czech Republic', None, None, None, 'week', 3159.47)\n(321, 'Lonee', 'Paz', 'Poland', '0', '1', '0', 'month', 4947.11)\n(322, 'Boycey', 'Letrange', 'Poland', '1', '0', '0', 'year', 1976.29)\n(323, 'Ingrim', 'Matuszkiewicz', None, '1', '0', '1', 'quarter', 525.93)\n(324, 'Scarlett', 'Rathbone', 'Poland', '0', '0', '1', 'year', 4523.55)\n(325, 'Sibyl', 'Gaskoin', 'Czech Republic', '0', '0', '0', 'week', 1716.57)\n(326, 'Nicolas', 'Launder', 'Poland', '1', '1', '1', 'week', 2981.03)\n(327, 'Eddy', 'Dupey', 'Poland', '1', '1', '1', 'quarter', 3608.54)\n(328, 'Roarke', 'Nicholl', 'Poland', '0', '0', '1', 'quarter', 2783.82)\n(329, 'Renaud', 'Oakenfull', 'Poland', '0', '0', '1', 'year', 5358.04)\n(330, 'Noah', 'Rickis', None, '1', '1', '1', 'year', 3358.39)\n(331, 'Felita', 'Layborn', 'Czech Republic', '0', '0', '0', 'year', 2480.22)\n(332, 'Gayleen', 'Mathey', None, '1', '0', '0', 'year', 4412.64)\n(333, 'Aguie', 'Pingstone', 'Poland', '1', '0', '1', 'month', 86.81)\n(334, 'Aylmar', 'Guiraud', 'Poland', '1', '1', '1', 'year', 1207.08)\n(335, 'Henrik', 'Thorald', 'Poland', '1', '0', '0', 'week', 3873.89)\n(336, 'Craggie', 'Lovelock', None, '1', '1', '1', 'quarter', 1530.88)\n(337, 'Millard', 'Feltoe', 'Czech Republic', None, None, None, 'quarter', 743.17)\n(338, 'Poppy', 'Kennally', None, '1', '0', '0', 'week', 3544.34)\n(339, 'Benjie', 'Bishell', 'Poland', '1', '1', '0', 'week', 882.42)\n(340, 'Amble', 'Masserel', None, '1', '0', '0', 'month', 3564.05)\n(341, 'Meredith', 'Genn', 'Poland', None, None, None, 'year', 1980.16)\n(342, 'Antonin', 'Trematick', None, '0', '1', '1', 'month', 4429.86)\n(343, 'Marina', 'Heephy', None, '1', '1', '0', 'year', 3121.74)\n(344, 'Justis', 'Cockshot', 'Poland', '1', '1', '1', 'year', 2098.42)\n(345, 'Madge', 'Hanscomb', 'Czech Republic', '0', '0', '1', 'month', 228.08)\n(346, 'Lief', 'Coxon', 'Czech Republic', '0', '0', '0', 'year', 1881.53)\n(347, 'Mordy', 'Form', 'Poland', '1', '0', '1', 'month', 1767.81)\n(348, 'Barbee', 'Aronstein', 'Poland', '1', '0', '0', 'month', 1935.91)\n(349, 'Cthrine', 'Minchell', 'Czech Republic', '1', '1', '1', 'year', 5550.52)\n(350, 'Dona', 'Rosengren', 'Poland', '0', '1', '1', 'year', 2859.26)\n(351, 'Letty', 'Chessor', None, '0', '0', '1', 'year', 292.62)\n(352, 'Erroll', 'Kensit', None, '1', '1', '1', 'year', 2314.67)\n(353, 'Deloris', 'Penddreth', None, '1', '0', '0', 'week', 3688.5)\n(354, 'Danica', 'Bodham', 'Poland', '1', '1', '0', 'quarter', 5069.23)\n(355, 'Meryl', 'Ladewig', 'Czech Republic', '1', '0', '1', 'month', 5988.54)\n(356, 'Lynnea', 'Swinden', 'Czech Republic', '1', '0', '0', 'year', 4338.64)\n(357, 'Robinette', 'Brittian', 'Poland', '1', '1', '0', 'year', 3324.39)\n(358, 'Valery', 'Cocksedge', 'Poland', '0', '1', '1', 'week', 3573.92)\n(359, 'Petra', 'Booeln', 'Czech Republic', '0', '0', '0', 'month', 2111.28)\n(360, 'Shelba', 'Somerset', None, '1', '1', '0', 'month', 3164.23)\n(361, 'Sharron', 'Anespie', None, '1', '0', '0', 'year', 5216.79)\n(362, 'Major', 'McIntee', None, '0', '0', '1', 'week', 1318.01)\n(363, 'Carlyn', 'Marnes', 'Poland', '0', '1', '0', 'month', 5685.63)\n(364, 'Georgianna', 'Romans', None, '1', '0', '1', 'week', 1726.22)\n(365, 'Laina', 'Blenkiron', 'Poland', '0', '0', '0', 'year', 1874.52)\n(366, 'Kamila', 'Eastman', 'Poland', '0', '1', '0', 'week', 1059.31)\n(367, 'Ignatius', 'Fucher', None, '0', '1', '0', 'year', 3274.21)\n(368, 'Nanete', 'Nuzzti', 'Poland', '0', '0', '1', 'quarter', 1220.2)\n(369, 'Dayle', 'Braddon', 'Poland', '0', '1', '0', 'year', 2881)\n(370, 'Stephannie', 'Devennie', None, '0', '0', '1', 'quarter', 4769.99)\n(371, 'Spence', 'Hocking', 'Poland', '0', '1', '0', 'week', 5538.66)\n(372, 'Jase', 'Zoppie', None, None, None, None, 'quarter', 5779.67)\n(373, 'Peta', 'Couzens', None, '1', '1', '0', 'year', 1458.73)\n(374, 'Ketti', 'Smees', 'Germany', None, None, None, 'quarter', 137.04)\n(375, 'Kacey', 'Dudgeon', 'Czech Republic', '0', '1', '1', 'year', 2667.75)\n(376, 'Elwira', 'Hrinchishin', 'Poland', None, None, None, 'week', 1436.84)\n(377, 'Romola', 'Decker', 'Poland', None, None, None, 'quarter', 730.3)\n(378, 'Roland', 'Laughtisse', None, '1', '1', '1', 'year', 3756.6)\n(379, 'Lilyan', 'Strachan', 'Poland', '1', '1', '1', 'quarter', 2710.23)\n(380, 'Veradis', 'Nethercott', 'Poland', '1', '0', '1', 'quarter', 2088.18)\n(381, 'Ermina', 'Iori', 'Czech Republic', '0', '0', '1', 'year', 2699.94)\n(382, 'Florri', 'de Savery', 'Poland', '1', '1', '1', 'week', 4749.04)\n(383, 'Jessi', 'Morcom', 'Poland', '1', '1', '1', 'month', 2870.44)\n(384, 'Britni', 'Speeks', 'Poland', '0', '0', '1', 'month', 1555.76)\n(385, 'Rubia', 'Luttgert', 'Poland', '1', '0', '0', 'year', 776.57)\n(386, 'Julio', 'Naylor', 'Poland', '0', '1', '0', 'year', 368.34)\n(387, 'Pietrek', 'Lawly', None, None, None, None, 'quarter', 3938.31)\n(388, 'Shelby', 'Standeven', None, '1', '0', '0', 'quarter', 3349.73)\n(389, 'Percival', 'Dourin', 'Czech Republic', '1', '1', '0', 'week', 3185.51)\n(390, 'Elvin', 'Piscopello', 'Poland', None, None, None, 'week', 1246.56)\n(391, 'Erny', 'Trippett', 'Germany', '1', '0', '0', 'week', 3405.14)\n(392, 'Iggy', 'Sacco', 'Poland', '1', '0', '0', 'year', 523.88)\n(393, 'Lek', 'Harston', 'Poland', None, None, None, 'year', 5174.27)\n(394, 'Hoyt', 'Budge', None, '1', '1', '1', 'week', 5848.44)\n(395, 'Lionel', 'Altimas', 'Poland', '1', '0', '1', 'quarter', 1300.03)\n(396, 'Lari', 'Humpage', None, '0', '1', '0', 'year', 843.46)\n(397, 'Jacquelyn', 'Canete', 'Poland', '1', '0', '1', 'month', 3287.28)\n(398, 'Bernadene', 'Creigan', 'Germany', '1', '0', '0', 'month', 2622.77)\n(399, 'Micky', 'Mellonby', 'Germany', '0', '0', '0', 'week', 5489.46)\n(400, 'Karin', 'Strange', 'Czech Republic', '1', '0', '1', 'quarter', 990.22)\n(401, 'Farly', 'Kennham', 'Poland', '0', '0', '0', 'quarter', 2771.67)\n(402, 'Padgett', 'MacKaile', 'Poland', None, None, None, 'quarter', 5565.87)\n(403, 'Anita', 'Douche', None, '0', '1', '1', 'month', 821.82)\n(404, 'Diana', 'Alven', 'Poland', '0', '1', '1', 'month', 2689.91)\n(405, 'Reena', 'Simkiss', 'Czech Republic', '0', '0', '1', 'year', 2779.13)\n(406, 'Blanche', 'Cherryman', 'Germany', '0', '0', '0', 'year', 2305.54)\n(407, 'Dante', 'Giveen', None, '0', '1', '0', 'year', 2270.83)\n(408, 'Bernetta', 'Dober', 'Poland', '1', '0', '0', 'quarter', 3497.31)\n(409, 'Selia', 'Jenicke', 'Poland', '0', '0', '0', 'month', 3207.9)\n(410, 'Josee', 'McKyrrelly', 'Poland', '1', '1', '1', 'month', 3932.87)\n(411, 'Lara', 'Camlin', 'Poland', '1', '0', '1', 'year', 3399.33)\n(412, 'Alfreda', 'Brigstock', 'Czech Republic', '1', '0', '1', 'month', 3083.07)\n(413, 'Saunderson', 'Bedboro', None, '0', '0', '0', 'month', 112.69)\n(414, 'Shem', 'Tudbald', 'Poland', '1', '0', '0', 'quarter', 4721.47)\n(415, 'Tara', 'Edward', 'Czech Republic', '0', '1', '0', 'week', 3604.6)\n(416, 'Bathsheba', 'Ropert', 'Czech Republic', '1', '0', '0', 'week', 3983.76)\n(417, 'Jannel', 'Wellington', None, '0', '0', '1', 'year', 3504.7)\n(418, 'Maure', 'Sherrard', 'Poland', '1', '0', '1', 'quarter', 1595.56)\n(419, 'Alyce', 'McMyler', None, '0', '1', '0', None, None)\n(420, 'Allsun', 'Frostdick', 'Czech Republic', '0', '0', '1', 'quarter', 1203.95)\n(421, 'Tansy', 'Leggis', 'Poland', '1', '0', '1', 'month', 3408.57)\n(422, 'Garner', 'Kurt', 'Poland', None, None, None, 'week', 4712.51)\n(423, 'Tabbie', 'McDowall', 'Czech Republic', None, None, None, 'year', 5661.52)\n(424, 'Mata', 'Triebner', 'Poland', '1', '1', '0', 'year', 3496.49)\n(425, 'Brigg', 'McKelvie', None, '1', '1', '1', 'year', 1135.89)\n(426, 'Elwood', 'Packer', 'Poland', '0', '0', '0', 'week', 1465.08)\n(427, 'Malissa', 'Southway', 'Poland', None, None, None, 'month', 845.08)\n(428, 'Godiva', 'Alonso', 'Poland', '0', '0', '0', 'quarter', 5087.77)\n(429, 'Vassili', 'Heggs', 'Poland', '0', '1', '0', 'year', 392.7)\n(430, 'Catlin', 'Swansbury', 'Poland', '0', '0', '0', 'quarter', 5283.07)\n(431, 'Ilka', 'Woodworth', 'Poland', None, None, None, 'week', 3878.43)\n(432, 'Gibb', 'Wink', None, '0', '1', '0', 'month', 2563.88)\n(433, 'Fraze', 'Lansdown', None, '0', '1', '0', 'quarter', 5891.95)\n(434, 'Deb', 'Mottini', None, '0', '0', '1', 'quarter', 563.31)\n(435, 'Lanny', 'Santi', 'Czech Republic', '1', '1', '0', 'month', 5076.09)\n(436, 'Evangelin', 'Debow', 'Poland', '1', '0', '0', 'year', 1950.03)\n(437, 'Kirsten', 'Walton', None, '1', '0', '1', 'year', 5680.26)\n(438, 'Nickola', 'Dinjes', 'Poland', '1', '0', '0', 'quarter', 2063.16)\n(439, 'Lissa', 'Guttridge', 'Germany', '0', '0', '1', None, None)\n(440, 'Kerrill', 'Gabbitas', None, '0', '0', '0', 'year', 235.05)\n(441, 'Delphine', 'Pursehouse', None, '0', '0', '0', 'month', 1529.89)\n(442, 'Pippo', 'Sutlieff', None, '1', '0', '0', 'month', 169.43)\n(443, 'Wildon', 'Meiner', None, '1', '0', '0', 'quarter', 3330.23)\n(444, 'Nikkie', 'Stephenson', 'Poland', '0', '0', '0', 'year', 2058.96)\n(445, 'Jenine', 'Willavoys', 'Poland', '1', '0', '1', 'quarter', 5794.43)\n(446, 'Halli', 'McKeon', 'Czech Republic', '0', '0', '0', 'month', 3126.26)\n(447, 'Freeman', 'Banaszczyk', 'Czech Republic', '1', '1', '1', 'quarter', 375.35)\n(448, 'Jeffie', 'Thoumas', None, '0', '0', '1', 'year', 305.96)\n(449, 'Reynold', 'Lynthal', None, '1', '1', '1', 'quarter', 3374.89)\n(450, 'Florina', 'Delgardo', 'Czech Republic', '1', '1', '1', 'quarter', 1256.37)\n(451, 'Clarinda', 'Duddan', 'Austria', '1', '1', '1', 'month', 5111.98)\n(452, 'Arron', 'Shepton', None, '1', '1', '1', 'year', 2647.28)\n(453, 'Morey', 'Fero', 'Poland', None, None, None, 'quarter', 1542.29)\n(454, 'Genevieve', 'Vasilic', 'Czech Republic', '0', '0', '0', None, None)\n(455, 'Casar', 'McIlvaney', None, '1', '1', '1', 'quarter', 3919.05)\n(456, 'Howey', 'Walsham', None, '0', '0', '1', 'quarter', 3629.46)\n(457, 'Shelagh', 'Cocks', 'Germany', '0', '1', '0', 'year', 792.42)\n(458, 'Brennen', 'Honisch', 'Poland', '0', '1', '0', 'year', 1744.06)\n(459, 'Coralyn', 'Niess', 'Poland', None, None, None, 'year', 4367.03)\n(460, 'Othella', 'Pascho', None, '1', '0', '0', 'quarter', 2221.74)\n(461, 'Saxon', 'Chattelaine', 'Poland', '1', '0', '0', 'week', 5920.96)\n(462, 'Darcy', 'Murrish', 'Poland', '1', '1', '1', 'month', 4757.15)\n(463, 'Babette', 'Darlington', 'Czech Republic', '1', '0', '0', 'week', 2116.94)\n(464, 'Hailey', 'Pretsell', 'Poland', '0', '1', '1', 'quarter', 3768.03)\n(465, 'Lorens', 'Lovelady', 'Czech Republic', None, None, None, 'week', 159.81)\n(466, 'Nannette', 'Smickle', None, '0', '0', '1', 'month', 3885.48)\n(467, 'Tudor', 'Benkin', None, '1', '0', '1', 'week', 3804.48)\n(468, 'Shoshanna', 'Skirving', None, '1', '1', '1', 'year', 572.7)\n(469, 'Meir', 'Lewton', None, '1', '0', '0', 'year', 721.55)\n(470, 'Felicle', 'Henze', 'Poland', '0', '1', '0', 'quarter', 1528.34)\n(471, 'Dedie', 'Redrup', None, '1', '1', '1', 'week', 1378.44)\n(472, 'Ulick', 'Marquez', 'Poland', '0', '0', '0', 'month', 3492.13)\n(473, 'Brendan', 'Arthey', None, '0', '0', '0', 'quarter', 5597.4)\n(474, 'Kizzie', 'Tyer', None, None, None, None, 'quarter', 2850.37)\n(475, 'Port', 'Pill', None, '0', '0', '0', 'week', 3012.44)\n(476, 'Lisette', 'Witty', 'Czech Republic', None, None, None, 'year', 2970.37)\n(477, 'Isabella', 'Kiehne', 'Czech Republic', '1', '1', '1', 'quarter', 1340.23)\n(478, 'Maribeth', 'Cutmere', 'Poland', '0', '1', '0', 'year', 4648.36)\n(479, 'Carleton', 'Gagg', 'Poland', '1', '1', '0', 'quarter', 868.43)\n(480, 'Elfie', 'Robez', None, '1', '0', '1', 'year', 674.73)\n(481, 'Torey', 'Arling', None, '1', '1', '0', 'month', 1927.69)\n(482, 'Tamar', 'Jump', 'Poland', None, None, None, 'month', 4303.76)\n(483, 'Hurley', 'Salack', 'Poland', '0', '0', '0', 'month', 198.56)\n(484, 'Latia', 'Elletson', 'Poland', '1', '0', '1', 'quarter', 328.61)\n(485, 'Allis', 'Burdikin', None, '1', '1', '0', 'quarter', 4816.83)\n(486, 'Birk', 'Dollimore', 'Czech Republic', '0', '0', '0', 'week', 3739.64)\n(487, 'Tull', 'Saldler', None, '0', '1', '1', 'quarter', 5485.57)\n(488, 'Dita', 'Mickleborough', None, None, None, None, 'quarter', 3044.71)\n(489, 'Gwenneth', 'Harrowing', None, '0', '0', '1', 'month', 3668.22)\n(490, 'Maurise', 'Flaune', None, None, None, None, 'year', 3158.27)\n(491, 'Benedikta', 'Gerretsen', None, '1', '0', '1', 'week', 1185.89)\n(492, 'Annnora', 'Starton', None, '1', '1', '1', 'month', 3400.28)\n(493, 'Ladonna', 'McMenamy', None, '0', '0', '1', 'month', 4722.58)\n(494, 'Lethia', 'Held', 'Czech Republic', '0', '0', '0', 'year', 754.38)\n(495, 'Loren', 'Macquire', None, '1', '0', '0', 'week', 787.89)\n(496, 'Dael', 'Maylam', 'Poland', '0', '0', '1', 'year', 1799.72)\n(497, 'Nonnah', 'Habens', None, '0', '1', '0', 'year', 2629.06)\n(498, 'Derward', 'Sandeford', 'Poland', None, None, None, 'year', 3559.92)\n(499, 'Claudianus', 'Abelevitz', 'Germany', None, None, None, 'month', 145.19)\n(500, 'Colan', 'Goodey', 'Poland', '1', '0', '0', 'month', 3293.49)\n"
     ]
    }
   ],
   "source": [
    "#LOAD CLIENT DATA FROM SQL FILE\n",
    "import pandas as pd\n",
    "import sqlite3\n",
    "\n",
    "conn=sqlite3.connect(\".memory\")\n",
    "cursor=conn.cursor()\n",
    "sql_file=open('client_zoo.sql')\n",
    "sql_as_str=sql_file.read()\n",
    "cursor.executescript(sql_as_str)\n",
    "for row in cursor.execute('SELECT * from client_zoo '):\n",
    "    print(row)\n",
    "\n",
    "sql_file.close()\n",
    "\n",
    "\n"
   ]
  },
  {
   "cell_type": "code",
   "execution_count": 5,
   "metadata": {},
   "outputs": [
    {
     "output_type": "execute_result",
     "data": {
      "text/plain": [
       "      id  first_name   last_name        location   cat   dog other frequency  \\\n",
       "0      1    Betteann     Semaine  Czech Republic     0     1     1      week   \n",
       "1      2    Marjorie      Seamon            None     0     1     0      week   \n",
       "2      3     Filbert      Napoli          Poland     1     0     0     month   \n",
       "3      4     Helenka      Yaakov          Poland     1     0     0      week   \n",
       "4      5        Neel  Joselevitz  Czech Republic     0     0     1   quarter   \n",
       "..   ...         ...         ...             ...   ...   ...   ...       ...   \n",
       "495  496        Dael      Maylam          Poland     0     0     1      year   \n",
       "496  497      Nonnah      Habens            None     0     1     0      year   \n",
       "497  498     Derward   Sandeford          Poland  None  None  None      year   \n",
       "498  499  Claudianus   Abelevitz         Germany  None  None  None     month   \n",
       "499  500       Colan      Goodey          Poland     1     0     0     month   \n",
       "\n",
       "     sum_order  \n",
       "0      2924.02  \n",
       "1      3548.38  \n",
       "2      3114.94  \n",
       "3      1412.04  \n",
       "4      5326.35  \n",
       "..         ...  \n",
       "495    1799.72  \n",
       "496    2629.06  \n",
       "497    3559.92  \n",
       "498     145.19  \n",
       "499    3293.49  \n",
       "\n",
       "[500 rows x 9 columns]"
      ],
      "text/html": "<div>\n<style scoped>\n    .dataframe tbody tr th:only-of-type {\n        vertical-align: middle;\n    }\n\n    .dataframe tbody tr th {\n        vertical-align: top;\n    }\n\n    .dataframe thead th {\n        text-align: right;\n    }\n</style>\n<table border=\"1\" class=\"dataframe\">\n  <thead>\n    <tr style=\"text-align: right;\">\n      <th></th>\n      <th>id</th>\n      <th>first_name</th>\n      <th>last_name</th>\n      <th>location</th>\n      <th>cat</th>\n      <th>dog</th>\n      <th>other</th>\n      <th>frequency</th>\n      <th>sum_order</th>\n    </tr>\n  </thead>\n  <tbody>\n    <tr>\n      <th>0</th>\n      <td>1</td>\n      <td>Betteann</td>\n      <td>Semaine</td>\n      <td>Czech Republic</td>\n      <td>0</td>\n      <td>1</td>\n      <td>1</td>\n      <td>week</td>\n      <td>2924.02</td>\n    </tr>\n    <tr>\n      <th>1</th>\n      <td>2</td>\n      <td>Marjorie</td>\n      <td>Seamon</td>\n      <td>None</td>\n      <td>0</td>\n      <td>1</td>\n      <td>0</td>\n      <td>week</td>\n      <td>3548.38</td>\n    </tr>\n    <tr>\n      <th>2</th>\n      <td>3</td>\n      <td>Filbert</td>\n      <td>Napoli</td>\n      <td>Poland</td>\n      <td>1</td>\n      <td>0</td>\n      <td>0</td>\n      <td>month</td>\n      <td>3114.94</td>\n    </tr>\n    <tr>\n      <th>3</th>\n      <td>4</td>\n      <td>Helenka</td>\n      <td>Yaakov</td>\n      <td>Poland</td>\n      <td>1</td>\n      <td>0</td>\n      <td>0</td>\n      <td>week</td>\n      <td>1412.04</td>\n    </tr>\n    <tr>\n      <th>4</th>\n      <td>5</td>\n      <td>Neel</td>\n      <td>Joselevitz</td>\n      <td>Czech Republic</td>\n      <td>0</td>\n      <td>0</td>\n      <td>1</td>\n      <td>quarter</td>\n      <td>5326.35</td>\n    </tr>\n    <tr>\n      <th>...</th>\n      <td>...</td>\n      <td>...</td>\n      <td>...</td>\n      <td>...</td>\n      <td>...</td>\n      <td>...</td>\n      <td>...</td>\n      <td>...</td>\n      <td>...</td>\n    </tr>\n    <tr>\n      <th>495</th>\n      <td>496</td>\n      <td>Dael</td>\n      <td>Maylam</td>\n      <td>Poland</td>\n      <td>0</td>\n      <td>0</td>\n      <td>1</td>\n      <td>year</td>\n      <td>1799.72</td>\n    </tr>\n    <tr>\n      <th>496</th>\n      <td>497</td>\n      <td>Nonnah</td>\n      <td>Habens</td>\n      <td>None</td>\n      <td>0</td>\n      <td>1</td>\n      <td>0</td>\n      <td>year</td>\n      <td>2629.06</td>\n    </tr>\n    <tr>\n      <th>497</th>\n      <td>498</td>\n      <td>Derward</td>\n      <td>Sandeford</td>\n      <td>Poland</td>\n      <td>None</td>\n      <td>None</td>\n      <td>None</td>\n      <td>year</td>\n      <td>3559.92</td>\n    </tr>\n    <tr>\n      <th>498</th>\n      <td>499</td>\n      <td>Claudianus</td>\n      <td>Abelevitz</td>\n      <td>Germany</td>\n      <td>None</td>\n      <td>None</td>\n      <td>None</td>\n      <td>month</td>\n      <td>145.19</td>\n    </tr>\n    <tr>\n      <th>499</th>\n      <td>500</td>\n      <td>Colan</td>\n      <td>Goodey</td>\n      <td>Poland</td>\n      <td>1</td>\n      <td>0</td>\n      <td>0</td>\n      <td>month</td>\n      <td>3293.49</td>\n    </tr>\n  </tbody>\n</table>\n<p>500 rows × 9 columns</p>\n</div>"
     },
     "metadata": {},
     "execution_count": 5
    }
   ],
   "source": [
    "#file.sql change > sqlite3 file.db\n",
    "# terminal cat client_zoo.sql | sqlite3 clientzoo.db\n",
    "\n",
    "from sqlalchemy import create_engine\n",
    "\n",
    "file_db='datasets/clientzoo.db'\n",
    "\n",
    "engine=create_engine(\"sqlite:///{}\".format(file_db))\n",
    "sql='SELECT * from client_zoo'\n",
    "\n",
    "order_data=pd.read_sql(sql,engine)\n",
    "order_data"
   ]
  },
  {
   "cell_type": "code",
   "execution_count": 11,
   "metadata": {},
   "outputs": [
    {
     "output_type": "execute_result",
     "data": {
      "text/plain": [
       "count     482.000000\n",
       "mean     2881.633610\n",
       "std      1753.071301\n",
       "min        10.990000\n",
       "25%      1318.520000\n",
       "50%      2884.630000\n",
       "75%      4373.762500\n",
       "max      5988.540000\n",
       "Name: sum_order, dtype: float64"
      ]
     },
     "metadata": {},
     "execution_count": 11
    }
   ],
   "source": [
    "# BASIC overall INFO -SUMA zamówienia \n",
    "order_data.sum_order.describe()"
   ]
  },
  {
   "cell_type": "code",
   "execution_count": 19,
   "metadata": {},
   "outputs": [
    {
     "output_type": "execute_result",
     "data": {
      "text/plain": [
       "<bound method Series.isna of 0         Semaine\n",
       "2          Napoli\n",
       "3          Yaakov\n",
       "4      Joselevitz\n",
       "6           Leere\n",
       "          ...    \n",
       "483      Elletson\n",
       "485     Dollimore\n",
       "493          Held\n",
       "495        Maylam\n",
       "499        Goodey\n",
       "Name: last_name, Length: 281, dtype: object>"
      ]
     },
     "metadata": {},
     "execution_count": 19
    }
   ],
   "source": [
    "#PREPARING DATA \n",
    "#cleaning DATA \n",
    "\n",
    "#ile jest NaN \n",
    "order_data.last_name.isna   #sprawdzenie jakie dane Missing/Nan/Null/Braki"
   ]
  },
  {
   "cell_type": "code",
   "execution_count": null,
   "metadata": {},
   "outputs": [],
   "source": []
  },
  {
   "cell_type": "code",
   "execution_count": 15,
   "metadata": {},
   "outputs": [
    {
     "output_type": "execute_result",
     "data": {
      "text/plain": [
       "      id first_name   last_name        location cat dog other frequency  \\\n",
       "0      1   Betteann     Semaine  Czech Republic   0   1     1      week   \n",
       "2      3    Filbert      Napoli          Poland   1   0     0     month   \n",
       "3      4    Helenka      Yaakov          Poland   1   0     0      week   \n",
       "4      5       Neel  Joselevitz  Czech Republic   0   0     1   quarter   \n",
       "6      7    Celinka       Leere          Poland   1   1     0      week   \n",
       "..   ...        ...         ...             ...  ..  ..   ...       ...   \n",
       "483  484      Latia    Elletson          Poland   1   0     1   quarter   \n",
       "485  486       Birk   Dollimore  Czech Republic   0   0     0      week   \n",
       "493  494     Lethia        Held  Czech Republic   0   0     0      year   \n",
       "495  496       Dael      Maylam          Poland   0   0     1      year   \n",
       "499  500      Colan      Goodey          Poland   1   0     0     month   \n",
       "\n",
       "     sum_order  \n",
       "0      2924.02  \n",
       "2      3114.94  \n",
       "3      1412.04  \n",
       "4      5326.35  \n",
       "6       200.02  \n",
       "..         ...  \n",
       "483     328.61  \n",
       "485    3739.64  \n",
       "493     754.38  \n",
       "495    1799.72  \n",
       "499    3293.49  \n",
       "\n",
       "[281 rows x 9 columns]"
      ],
      "text/html": "<div>\n<style scoped>\n    .dataframe tbody tr th:only-of-type {\n        vertical-align: middle;\n    }\n\n    .dataframe tbody tr th {\n        vertical-align: top;\n    }\n\n    .dataframe thead th {\n        text-align: right;\n    }\n</style>\n<table border=\"1\" class=\"dataframe\">\n  <thead>\n    <tr style=\"text-align: right;\">\n      <th></th>\n      <th>id</th>\n      <th>first_name</th>\n      <th>last_name</th>\n      <th>location</th>\n      <th>cat</th>\n      <th>dog</th>\n      <th>other</th>\n      <th>frequency</th>\n      <th>sum_order</th>\n    </tr>\n  </thead>\n  <tbody>\n    <tr>\n      <th>0</th>\n      <td>1</td>\n      <td>Betteann</td>\n      <td>Semaine</td>\n      <td>Czech Republic</td>\n      <td>0</td>\n      <td>1</td>\n      <td>1</td>\n      <td>week</td>\n      <td>2924.02</td>\n    </tr>\n    <tr>\n      <th>2</th>\n      <td>3</td>\n      <td>Filbert</td>\n      <td>Napoli</td>\n      <td>Poland</td>\n      <td>1</td>\n      <td>0</td>\n      <td>0</td>\n      <td>month</td>\n      <td>3114.94</td>\n    </tr>\n    <tr>\n      <th>3</th>\n      <td>4</td>\n      <td>Helenka</td>\n      <td>Yaakov</td>\n      <td>Poland</td>\n      <td>1</td>\n      <td>0</td>\n      <td>0</td>\n      <td>week</td>\n      <td>1412.04</td>\n    </tr>\n    <tr>\n      <th>4</th>\n      <td>5</td>\n      <td>Neel</td>\n      <td>Joselevitz</td>\n      <td>Czech Republic</td>\n      <td>0</td>\n      <td>0</td>\n      <td>1</td>\n      <td>quarter</td>\n      <td>5326.35</td>\n    </tr>\n    <tr>\n      <th>6</th>\n      <td>7</td>\n      <td>Celinka</td>\n      <td>Leere</td>\n      <td>Poland</td>\n      <td>1</td>\n      <td>1</td>\n      <td>0</td>\n      <td>week</td>\n      <td>200.02</td>\n    </tr>\n    <tr>\n      <th>...</th>\n      <td>...</td>\n      <td>...</td>\n      <td>...</td>\n      <td>...</td>\n      <td>...</td>\n      <td>...</td>\n      <td>...</td>\n      <td>...</td>\n      <td>...</td>\n    </tr>\n    <tr>\n      <th>483</th>\n      <td>484</td>\n      <td>Latia</td>\n      <td>Elletson</td>\n      <td>Poland</td>\n      <td>1</td>\n      <td>0</td>\n      <td>1</td>\n      <td>quarter</td>\n      <td>328.61</td>\n    </tr>\n    <tr>\n      <th>485</th>\n      <td>486</td>\n      <td>Birk</td>\n      <td>Dollimore</td>\n      <td>Czech Republic</td>\n      <td>0</td>\n      <td>0</td>\n      <td>0</td>\n      <td>week</td>\n      <td>3739.64</td>\n    </tr>\n    <tr>\n      <th>493</th>\n      <td>494</td>\n      <td>Lethia</td>\n      <td>Held</td>\n      <td>Czech Republic</td>\n      <td>0</td>\n      <td>0</td>\n      <td>0</td>\n      <td>year</td>\n      <td>754.38</td>\n    </tr>\n    <tr>\n      <th>495</th>\n      <td>496</td>\n      <td>Dael</td>\n      <td>Maylam</td>\n      <td>Poland</td>\n      <td>0</td>\n      <td>0</td>\n      <td>1</td>\n      <td>year</td>\n      <td>1799.72</td>\n    </tr>\n    <tr>\n      <th>499</th>\n      <td>500</td>\n      <td>Colan</td>\n      <td>Goodey</td>\n      <td>Poland</td>\n      <td>1</td>\n      <td>0</td>\n      <td>0</td>\n      <td>month</td>\n      <td>3293.49</td>\n    </tr>\n  </tbody>\n</table>\n<p>281 rows × 9 columns</p>\n</div>"
     },
     "metadata": {},
     "execution_count": 15
    }
   ],
   "source": [
    "#PREPARING DATA \n",
    "#cleaning DATA \n",
    "#>>MISSING INFO -drop rows with missing info\n",
    "\n",
    "order_data=order_data.dropna()\n",
    "order_data\n",
    "#z 500 klientów wybrakowane dane z pozostało 281 klientów"
   ]
  },
  {
   "cell_type": "code",
   "execution_count": 25,
   "metadata": {},
   "outputs": [
    {
     "output_type": "execute_result",
     "data": {
      "text/plain": [
       "0      False\n",
       "2      False\n",
       "3      False\n",
       "4      False\n",
       "6      False\n",
       "       ...  \n",
       "483    False\n",
       "485    False\n",
       "493    False\n",
       "495    False\n",
       "499    False\n",
       "Length: 281, dtype: bool"
      ]
     },
     "metadata": {},
     "execution_count": 25
    }
   ],
   "source": [
    "#>>check duplicated data \n",
    "order_data.duplicated()  #nie ma powtarzajacych się wpisów"
   ]
  },
  {
   "cell_type": "code",
   "execution_count": 31,
   "metadata": {},
   "outputs": [
    {
     "output_type": "execute_result",
     "data": {
      "text/plain": [
       "      id  first_name    last_name        location cat dog other frequency  \\\n",
       "124  125    Sharline       Sonier  Czech Republic   0   0     1      year   \n",
       "61    62         Dar       Sueter          Poland   0   1     1      year   \n",
       "89    90       Zelda     Woolfitt          Poland   1   0     0     month   \n",
       "252  253       Manda       Volkes         Germany   1   1     1   quarter   \n",
       "332  333       Aguie    Pingstone          Poland   1   0     1     month   \n",
       "..   ...         ...          ...             ...  ..  ..   ...       ...   \n",
       "292  293        Lusa     Danskine  Czech Republic   0   0     0      week   \n",
       "460  461       Saxon  Chattelaine          Poland   1   0     0      week   \n",
       "278  279  Petronille    Lilbourne          Poland   0   0     1     month   \n",
       "48    49       Celka      Stanner  Czech Republic   0   0     0   quarter   \n",
       "354  355       Meryl      Ladewig  Czech Republic   1   0     1     month   \n",
       "\n",
       "     sum_order  \n",
       "124      19.11  \n",
       "61       22.37  \n",
       "89       32.83  \n",
       "252      78.12  \n",
       "332      86.81  \n",
       "..         ...  \n",
       "292    5868.36  \n",
       "460    5920.96  \n",
       "278    5927.22  \n",
       "48     5947.87  \n",
       "354    5988.54  \n",
       "\n",
       "[281 rows x 9 columns]"
      ],
      "text/html": "<div>\n<style scoped>\n    .dataframe tbody tr th:only-of-type {\n        vertical-align: middle;\n    }\n\n    .dataframe tbody tr th {\n        vertical-align: top;\n    }\n\n    .dataframe thead th {\n        text-align: right;\n    }\n</style>\n<table border=\"1\" class=\"dataframe\">\n  <thead>\n    <tr style=\"text-align: right;\">\n      <th></th>\n      <th>id</th>\n      <th>first_name</th>\n      <th>last_name</th>\n      <th>location</th>\n      <th>cat</th>\n      <th>dog</th>\n      <th>other</th>\n      <th>frequency</th>\n      <th>sum_order</th>\n    </tr>\n  </thead>\n  <tbody>\n    <tr>\n      <th>124</th>\n      <td>125</td>\n      <td>Sharline</td>\n      <td>Sonier</td>\n      <td>Czech Republic</td>\n      <td>0</td>\n      <td>0</td>\n      <td>1</td>\n      <td>year</td>\n      <td>19.11</td>\n    </tr>\n    <tr>\n      <th>61</th>\n      <td>62</td>\n      <td>Dar</td>\n      <td>Sueter</td>\n      <td>Poland</td>\n      <td>0</td>\n      <td>1</td>\n      <td>1</td>\n      <td>year</td>\n      <td>22.37</td>\n    </tr>\n    <tr>\n      <th>89</th>\n      <td>90</td>\n      <td>Zelda</td>\n      <td>Woolfitt</td>\n      <td>Poland</td>\n      <td>1</td>\n      <td>0</td>\n      <td>0</td>\n      <td>month</td>\n      <td>32.83</td>\n    </tr>\n    <tr>\n      <th>252</th>\n      <td>253</td>\n      <td>Manda</td>\n      <td>Volkes</td>\n      <td>Germany</td>\n      <td>1</td>\n      <td>1</td>\n      <td>1</td>\n      <td>quarter</td>\n      <td>78.12</td>\n    </tr>\n    <tr>\n      <th>332</th>\n      <td>333</td>\n      <td>Aguie</td>\n      <td>Pingstone</td>\n      <td>Poland</td>\n      <td>1</td>\n      <td>0</td>\n      <td>1</td>\n      <td>month</td>\n      <td>86.81</td>\n    </tr>\n    <tr>\n      <th>...</th>\n      <td>...</td>\n      <td>...</td>\n      <td>...</td>\n      <td>...</td>\n      <td>...</td>\n      <td>...</td>\n      <td>...</td>\n      <td>...</td>\n      <td>...</td>\n    </tr>\n    <tr>\n      <th>292</th>\n      <td>293</td>\n      <td>Lusa</td>\n      <td>Danskine</td>\n      <td>Czech Republic</td>\n      <td>0</td>\n      <td>0</td>\n      <td>0</td>\n      <td>week</td>\n      <td>5868.36</td>\n    </tr>\n    <tr>\n      <th>460</th>\n      <td>461</td>\n      <td>Saxon</td>\n      <td>Chattelaine</td>\n      <td>Poland</td>\n      <td>1</td>\n      <td>0</td>\n      <td>0</td>\n      <td>week</td>\n      <td>5920.96</td>\n    </tr>\n    <tr>\n      <th>278</th>\n      <td>279</td>\n      <td>Petronille</td>\n      <td>Lilbourne</td>\n      <td>Poland</td>\n      <td>0</td>\n      <td>0</td>\n      <td>1</td>\n      <td>month</td>\n      <td>5927.22</td>\n    </tr>\n    <tr>\n      <th>48</th>\n      <td>49</td>\n      <td>Celka</td>\n      <td>Stanner</td>\n      <td>Czech Republic</td>\n      <td>0</td>\n      <td>0</td>\n      <td>0</td>\n      <td>quarter</td>\n      <td>5947.87</td>\n    </tr>\n    <tr>\n      <th>354</th>\n      <td>355</td>\n      <td>Meryl</td>\n      <td>Ladewig</td>\n      <td>Czech Republic</td>\n      <td>1</td>\n      <td>0</td>\n      <td>1</td>\n      <td>month</td>\n      <td>5988.54</td>\n    </tr>\n  </tbody>\n</table>\n<p>281 rows × 9 columns</p>\n</div>"
     },
     "metadata": {},
     "execution_count": 31
    }
   ],
   "source": [
    "#ORGANIZING DATA  SORTING \n",
    "order_data.sort_values(by=['sum_order','frequency']) #min sum_order 19.11 a max 5988.54\n",
    "\n",
    "\n"
   ]
  },
  {
   "cell_type": "code",
   "execution_count": 36,
   "metadata": {},
   "outputs": [
    {
     "output_type": "execute_result",
     "data": {
      "text/plain": [
       "                  sum_order\n",
       "location                   \n",
       "Austria         4202.705000\n",
       "Czech Republic  3092.917590\n",
       "Germany         3180.742857\n",
       "Poland          2752.790879"
      ],
      "text/html": "<div>\n<style scoped>\n    .dataframe tbody tr th:only-of-type {\n        vertical-align: middle;\n    }\n\n    .dataframe tbody tr th {\n        vertical-align: top;\n    }\n\n    .dataframe thead th {\n        text-align: right;\n    }\n</style>\n<table border=\"1\" class=\"dataframe\">\n  <thead>\n    <tr style=\"text-align: right;\">\n      <th></th>\n      <th>sum_order</th>\n    </tr>\n    <tr>\n      <th>location</th>\n      <th></th>\n    </tr>\n  </thead>\n  <tbody>\n    <tr>\n      <th>Austria</th>\n      <td>4202.705000</td>\n    </tr>\n    <tr>\n      <th>Czech Republic</th>\n      <td>3092.917590</td>\n    </tr>\n    <tr>\n      <th>Germany</th>\n      <td>3180.742857</td>\n    </tr>\n    <tr>\n      <th>Poland</th>\n      <td>2752.790879</td>\n    </tr>\n  </tbody>\n</table>\n</div>"
     },
     "metadata": {},
     "execution_count": 36
    }
   ],
   "source": [
    "#AGGREGATE SORTING\n",
    "# example Sum of Order - Location Origin State\n",
    "\n",
    "pd.pivot_table(order_data,values=['sum_order'], index=['location'])"
   ]
  },
  {
   "cell_type": "code",
   "execution_count": 42,
   "metadata": {},
   "outputs": [
    {
     "output_type": "execute_result",
     "data": {
      "text/plain": [
       "                sum_order\n",
       "location                 \n",
       "Czech Republic    5868.36\n",
       "Germany           5489.46\n",
       "Poland            5920.96"
      ],
      "text/html": "<div>\n<style scoped>\n    .dataframe tbody tr th:only-of-type {\n        vertical-align: middle;\n    }\n\n    .dataframe tbody tr th {\n        vertical-align: top;\n    }\n\n    .dataframe thead th {\n        text-align: right;\n    }\n</style>\n<table border=\"1\" class=\"dataframe\">\n  <thead>\n    <tr style=\"text-align: right;\">\n      <th></th>\n      <th>sum_order</th>\n    </tr>\n    <tr>\n      <th>location</th>\n      <th></th>\n    </tr>\n  </thead>\n  <tbody>\n    <tr>\n      <th>Czech Republic</th>\n      <td>5868.36</td>\n    </tr>\n    <tr>\n      <th>Germany</th>\n      <td>5489.46</td>\n    </tr>\n    <tr>\n      <th>Poland</th>\n      <td>5920.96</td>\n    </tr>\n  </tbody>\n</table>\n</div>"
     },
     "metadata": {},
     "execution_count": 42
    }
   ],
   "source": [
    "df_freq=order_data.loc[order_data['frequency']==\"week\"]\n",
    "pd.pivot_table(df_freq,index=['location'],aggfunc='max',values=['sum_order'])"
   ]
  },
  {
   "cell_type": "code",
   "execution_count": null,
   "metadata": {},
   "outputs": [],
   "source": []
  }
 ]
}