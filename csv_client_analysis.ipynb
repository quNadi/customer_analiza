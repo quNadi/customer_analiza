{
 "metadata": {
  "language_info": {
   "codemirror_mode": {
    "name": "ipython",
    "version": 3
   },
   "file_extension": ".py",
   "mimetype": "text/x-python",
   "name": "python",
   "nbconvert_exporter": "python",
   "pygments_lexer": "ipython3",
   "version": "3.8.5-final"
  },
  "orig_nbformat": 2,
  "kernelspec": {
   "name": "python3",
   "display_name": "Python 3",
   "language": "python"
  }
 },
 "nbformat": 4,
 "nbformat_minor": 2,
 "cells": [
  {
   "cell_type": "code",
   "execution_count": 231,
   "metadata": {},
   "outputs": [
    {
     "output_type": "execute_result",
     "data": {
      "text/plain": [
       "      id  first_name        last_name        location    cat    dog  other  \\\n",
       "0      1     Ellissa           Snoddy  Czech Republic  False  False   True   \n",
       "1      2        Noak       De Ambrosi          Poland    NaN    NaN    NaN   \n",
       "2      3       Marlo           Derham          Poland   True   True   True   \n",
       "3      4     Carroll  Clarke-Williams  Czech Republic  False   True   True   \n",
       "4      5         Joy           Camden          Poland  False   True   True   \n",
       "..   ...         ...              ...             ...    ...    ...    ...   \n",
       "495  496  Hildegarde          Boldero             NaN   True  False  False   \n",
       "496  497  Anna-diane           Easton          Poland  False   True  False   \n",
       "497  498      Kathie         Rushmare          Poland   True   True   True   \n",
       "498  499        Maia          Dudeney          Poland  False   True   True   \n",
       "499  500    Rafaelia        Antonikov  Czech Republic    NaN    NaN    NaN   \n",
       "\n",
       "       order                    company_order frequency  \n",
       "0    €990,68        Colgate-Palmolive Company      year  \n",
       "1        NaN                              NaN   quarter  \n",
       "2     €32,01  TOP CARE (Topco Associates LLC)      week  \n",
       "3    €243,15     Teva Pharmaceuticals USA Inc      week  \n",
       "4    €149,16            Eli Lilly and Company      week  \n",
       "..       ...                              ...       ...  \n",
       "495  €926,62          Meijer Distribution Inc     month  \n",
       "496  €912,65                       Sandoz Inc   quarter  \n",
       "497  €164,67         Ventura Corporation LTD.      week  \n",
       "498  €870,31          Rebel Distributors Corp     month  \n",
       "499      NaN                              NaN     month  \n",
       "\n",
       "[500 rows x 10 columns]"
      ],
      "text/html": "<div>\n<style scoped>\n    .dataframe tbody tr th:only-of-type {\n        vertical-align: middle;\n    }\n\n    .dataframe tbody tr th {\n        vertical-align: top;\n    }\n\n    .dataframe thead th {\n        text-align: right;\n    }\n</style>\n<table border=\"1\" class=\"dataframe\">\n  <thead>\n    <tr style=\"text-align: right;\">\n      <th></th>\n      <th>id</th>\n      <th>first_name</th>\n      <th>last_name</th>\n      <th>location</th>\n      <th>cat</th>\n      <th>dog</th>\n      <th>other</th>\n      <th>order</th>\n      <th>company_order</th>\n      <th>frequency</th>\n    </tr>\n  </thead>\n  <tbody>\n    <tr>\n      <th>0</th>\n      <td>1</td>\n      <td>Ellissa</td>\n      <td>Snoddy</td>\n      <td>Czech Republic</td>\n      <td>False</td>\n      <td>False</td>\n      <td>True</td>\n      <td>€990,68</td>\n      <td>Colgate-Palmolive Company</td>\n      <td>year</td>\n    </tr>\n    <tr>\n      <th>1</th>\n      <td>2</td>\n      <td>Noak</td>\n      <td>De Ambrosi</td>\n      <td>Poland</td>\n      <td>NaN</td>\n      <td>NaN</td>\n      <td>NaN</td>\n      <td>NaN</td>\n      <td>NaN</td>\n      <td>quarter</td>\n    </tr>\n    <tr>\n      <th>2</th>\n      <td>3</td>\n      <td>Marlo</td>\n      <td>Derham</td>\n      <td>Poland</td>\n      <td>True</td>\n      <td>True</td>\n      <td>True</td>\n      <td>€32,01</td>\n      <td>TOP CARE (Topco Associates LLC)</td>\n      <td>week</td>\n    </tr>\n    <tr>\n      <th>3</th>\n      <td>4</td>\n      <td>Carroll</td>\n      <td>Clarke-Williams</td>\n      <td>Czech Republic</td>\n      <td>False</td>\n      <td>True</td>\n      <td>True</td>\n      <td>€243,15</td>\n      <td>Teva Pharmaceuticals USA Inc</td>\n      <td>week</td>\n    </tr>\n    <tr>\n      <th>4</th>\n      <td>5</td>\n      <td>Joy</td>\n      <td>Camden</td>\n      <td>Poland</td>\n      <td>False</td>\n      <td>True</td>\n      <td>True</td>\n      <td>€149,16</td>\n      <td>Eli Lilly and Company</td>\n      <td>week</td>\n    </tr>\n    <tr>\n      <th>...</th>\n      <td>...</td>\n      <td>...</td>\n      <td>...</td>\n      <td>...</td>\n      <td>...</td>\n      <td>...</td>\n      <td>...</td>\n      <td>...</td>\n      <td>...</td>\n      <td>...</td>\n    </tr>\n    <tr>\n      <th>495</th>\n      <td>496</td>\n      <td>Hildegarde</td>\n      <td>Boldero</td>\n      <td>NaN</td>\n      <td>True</td>\n      <td>False</td>\n      <td>False</td>\n      <td>€926,62</td>\n      <td>Meijer Distribution Inc</td>\n      <td>month</td>\n    </tr>\n    <tr>\n      <th>496</th>\n      <td>497</td>\n      <td>Anna-diane</td>\n      <td>Easton</td>\n      <td>Poland</td>\n      <td>False</td>\n      <td>True</td>\n      <td>False</td>\n      <td>€912,65</td>\n      <td>Sandoz Inc</td>\n      <td>quarter</td>\n    </tr>\n    <tr>\n      <th>497</th>\n      <td>498</td>\n      <td>Kathie</td>\n      <td>Rushmare</td>\n      <td>Poland</td>\n      <td>True</td>\n      <td>True</td>\n      <td>True</td>\n      <td>€164,67</td>\n      <td>Ventura Corporation LTD.</td>\n      <td>week</td>\n    </tr>\n    <tr>\n      <th>498</th>\n      <td>499</td>\n      <td>Maia</td>\n      <td>Dudeney</td>\n      <td>Poland</td>\n      <td>False</td>\n      <td>True</td>\n      <td>True</td>\n      <td>€870,31</td>\n      <td>Rebel Distributors Corp</td>\n      <td>month</td>\n    </tr>\n    <tr>\n      <th>499</th>\n      <td>500</td>\n      <td>Rafaelia</td>\n      <td>Antonikov</td>\n      <td>Czech Republic</td>\n      <td>NaN</td>\n      <td>NaN</td>\n      <td>NaN</td>\n      <td>NaN</td>\n      <td>NaN</td>\n      <td>month</td>\n    </tr>\n  </tbody>\n</table>\n<p>500 rows × 10 columns</p>\n</div>"
     },
     "metadata": {},
     "execution_count": 231
    }
   ],
   "source": [
    "import numpy as np  \n",
    "import pandas as pd \n",
    "\n",
    "#LOAD DATA CSV FILE\n",
    "df_order=pd.read_csv('datasets/client_zoocsv.csv', header=0)\n",
    "df_order\n"
   ]
  },
  {
   "cell_type": "code",
   "execution_count": 232,
   "metadata": {},
   "outputs": [
    {
     "output_type": "execute_result",
     "data": {
      "text/plain": [
       "      id  first_name        last_name        location    cat    dog  other  \\\n",
       "0      1     Ellissa           Snoddy  Czech Republic  False  False   True   \n",
       "2      3       Marlo           Derham          Poland   True   True   True   \n",
       "3      4     Carroll  Clarke-Williams  Czech Republic  False   True   True   \n",
       "4      5         Joy           Camden          Poland  False   True   True   \n",
       "9     10    Isahella          Bingall  Czech Republic  False   True  False   \n",
       "..   ...         ...              ...             ...    ...    ...    ...   \n",
       "492  493         Gal           Sparke          Poland   True  False   True   \n",
       "494  495     Ethelin           Salman          Poland  False  False   True   \n",
       "496  497  Anna-diane           Easton          Poland  False   True  False   \n",
       "497  498      Kathie         Rushmare          Poland   True   True   True   \n",
       "498  499        Maia          Dudeney          Poland  False   True   True   \n",
       "\n",
       "       order                    company_order frequency  \n",
       "0    €990,68        Colgate-Palmolive Company      year  \n",
       "2     €32,01  TOP CARE (Topco Associates LLC)      week  \n",
       "3    €243,15     Teva Pharmaceuticals USA Inc      week  \n",
       "4    €149,16            Eli Lilly and Company      week  \n",
       "9    €295,29                   Dolgencorp Inc     month  \n",
       "..       ...                              ...       ...  \n",
       "492  €428,30                   Go Smile, Inc.      week  \n",
       "494  €472,26       Valu Merchandisers Company      year  \n",
       "496  €912,65                       Sandoz Inc   quarter  \n",
       "497  €164,67         Ventura Corporation LTD.      week  \n",
       "498  €870,31          Rebel Distributors Corp     month  \n",
       "\n",
       "[305 rows x 10 columns]"
      ],
      "text/html": "<div>\n<style scoped>\n    .dataframe tbody tr th:only-of-type {\n        vertical-align: middle;\n    }\n\n    .dataframe tbody tr th {\n        vertical-align: top;\n    }\n\n    .dataframe thead th {\n        text-align: right;\n    }\n</style>\n<table border=\"1\" class=\"dataframe\">\n  <thead>\n    <tr style=\"text-align: right;\">\n      <th></th>\n      <th>id</th>\n      <th>first_name</th>\n      <th>last_name</th>\n      <th>location</th>\n      <th>cat</th>\n      <th>dog</th>\n      <th>other</th>\n      <th>order</th>\n      <th>company_order</th>\n      <th>frequency</th>\n    </tr>\n  </thead>\n  <tbody>\n    <tr>\n      <th>0</th>\n      <td>1</td>\n      <td>Ellissa</td>\n      <td>Snoddy</td>\n      <td>Czech Republic</td>\n      <td>False</td>\n      <td>False</td>\n      <td>True</td>\n      <td>€990,68</td>\n      <td>Colgate-Palmolive Company</td>\n      <td>year</td>\n    </tr>\n    <tr>\n      <th>2</th>\n      <td>3</td>\n      <td>Marlo</td>\n      <td>Derham</td>\n      <td>Poland</td>\n      <td>True</td>\n      <td>True</td>\n      <td>True</td>\n      <td>€32,01</td>\n      <td>TOP CARE (Topco Associates LLC)</td>\n      <td>week</td>\n    </tr>\n    <tr>\n      <th>3</th>\n      <td>4</td>\n      <td>Carroll</td>\n      <td>Clarke-Williams</td>\n      <td>Czech Republic</td>\n      <td>False</td>\n      <td>True</td>\n      <td>True</td>\n      <td>€243,15</td>\n      <td>Teva Pharmaceuticals USA Inc</td>\n      <td>week</td>\n    </tr>\n    <tr>\n      <th>4</th>\n      <td>5</td>\n      <td>Joy</td>\n      <td>Camden</td>\n      <td>Poland</td>\n      <td>False</td>\n      <td>True</td>\n      <td>True</td>\n      <td>€149,16</td>\n      <td>Eli Lilly and Company</td>\n      <td>week</td>\n    </tr>\n    <tr>\n      <th>9</th>\n      <td>10</td>\n      <td>Isahella</td>\n      <td>Bingall</td>\n      <td>Czech Republic</td>\n      <td>False</td>\n      <td>True</td>\n      <td>False</td>\n      <td>€295,29</td>\n      <td>Dolgencorp Inc</td>\n      <td>month</td>\n    </tr>\n    <tr>\n      <th>...</th>\n      <td>...</td>\n      <td>...</td>\n      <td>...</td>\n      <td>...</td>\n      <td>...</td>\n      <td>...</td>\n      <td>...</td>\n      <td>...</td>\n      <td>...</td>\n      <td>...</td>\n    </tr>\n    <tr>\n      <th>492</th>\n      <td>493</td>\n      <td>Gal</td>\n      <td>Sparke</td>\n      <td>Poland</td>\n      <td>True</td>\n      <td>False</td>\n      <td>True</td>\n      <td>€428,30</td>\n      <td>Go Smile, Inc.</td>\n      <td>week</td>\n    </tr>\n    <tr>\n      <th>494</th>\n      <td>495</td>\n      <td>Ethelin</td>\n      <td>Salman</td>\n      <td>Poland</td>\n      <td>False</td>\n      <td>False</td>\n      <td>True</td>\n      <td>€472,26</td>\n      <td>Valu Merchandisers Company</td>\n      <td>year</td>\n    </tr>\n    <tr>\n      <th>496</th>\n      <td>497</td>\n      <td>Anna-diane</td>\n      <td>Easton</td>\n      <td>Poland</td>\n      <td>False</td>\n      <td>True</td>\n      <td>False</td>\n      <td>€912,65</td>\n      <td>Sandoz Inc</td>\n      <td>quarter</td>\n    </tr>\n    <tr>\n      <th>497</th>\n      <td>498</td>\n      <td>Kathie</td>\n      <td>Rushmare</td>\n      <td>Poland</td>\n      <td>True</td>\n      <td>True</td>\n      <td>True</td>\n      <td>€164,67</td>\n      <td>Ventura Corporation LTD.</td>\n      <td>week</td>\n    </tr>\n    <tr>\n      <th>498</th>\n      <td>499</td>\n      <td>Maia</td>\n      <td>Dudeney</td>\n      <td>Poland</td>\n      <td>False</td>\n      <td>True</td>\n      <td>True</td>\n      <td>€870,31</td>\n      <td>Rebel Distributors Corp</td>\n      <td>month</td>\n    </tr>\n  </tbody>\n</table>\n<p>305 rows × 10 columns</p>\n</div>"
     },
     "metadata": {},
     "execution_count": 232
    }
   ],
   "source": [
    "#PREPARING DATA\n",
    "#cleaning data >  drop NaN \"missing data\"\n",
    "#types > int /float ORDER COLUMN \n",
    "\n",
    "newdf=df_order.dropna()    #cleanin\n",
    "newdf"
   ]
  },
  {
   "cell_type": "code",
   "execution_count": 233,
   "metadata": {},
   "outputs": [
    {
     "output_type": "execute_result",
     "data": {
      "text/plain": [
       "0      €990,68\n",
       "2       €32,01\n",
       "3      €243,15\n",
       "4      €149,16\n",
       "9      €295,29\n",
       "        ...   \n",
       "492    €428,30\n",
       "494    €472,26\n",
       "496    €912,65\n",
       "497    €164,67\n",
       "498    €870,31\n",
       "Name: order, Length: 305, dtype: string"
      ]
     },
     "metadata": {},
     "execution_count": 233
    }
   ],
   "source": [
    "newdf.order.convert_dtypes() #string"
   ]
  },
  {
   "cell_type": "code",
   "execution_count": 234,
   "metadata": {},
   "outputs": [
    {
     "output_type": "execute_result",
     "data": {
      "text/plain": [
       "0      990,68\n",
       "2       32,01\n",
       "3      243,15\n",
       "4      149,16\n",
       "9      295,29\n",
       "        ...  \n",
       "492    428,30\n",
       "494    472,26\n",
       "496    912,65\n",
       "497    164,67\n",
       "498    870,31\n",
       "Name: order, Length: 305, dtype: object"
      ]
     },
     "metadata": {},
     "execution_count": 234
    }
   ],
   "source": [
    "#cleaning symbol currency > float dtype\n",
    "\n",
    "new=[]\n",
    "for x in newdf.order:\n",
    "    x=x[1:]\n",
    "    new.append(x)\n",
    "\n",
    "newdf.order=new\n",
    "newdf.order"
   ]
  },
  {
   "cell_type": "code",
   "execution_count": 240,
   "metadata": {},
   "outputs": [],
   "source": [
    "#change type object/str >> float column \n",
    "newdf.order=newdf.order.str.replace(',','.')\n",
    "\n"
   ]
  },
  {
   "cell_type": "code",
   "execution_count": 247,
   "metadata": {},
   "outputs": [],
   "source": [
    "newdf.order=pd.to_numeric(newdf.order)  #float"
   ]
  },
  {
   "cell_type": "code",
   "execution_count": 248,
   "metadata": {},
   "outputs": [
    {
     "output_type": "execute_result",
     "data": {
      "text/plain": [
       "0      990.68\n",
       "2       32.01\n",
       "3      243.15\n",
       "4      149.16\n",
       "9      295.29\n",
       "        ...  \n",
       "492    428.30\n",
       "494    472.26\n",
       "496    912.65\n",
       "497    164.67\n",
       "498    870.31\n",
       "Name: order, Length: 305, dtype: float64"
      ]
     },
     "metadata": {},
     "execution_count": 248
    }
   ],
   "source": [
    "newdf.order"
   ]
  },
  {
   "cell_type": "code",
   "execution_count": 261,
   "metadata": {},
   "outputs": [
    {
     "output_type": "execute_result",
     "data": {
      "text/plain": [
       "      id  first_name        last_name        location    cat    dog  other  \\\n",
       "0      1     Ellissa           Snoddy  Czech Republic  False  False   True   \n",
       "2      3       Marlo           Derham          Poland   True   True   True   \n",
       "3      4     Carroll  Clarke-Williams  Czech Republic  False   True   True   \n",
       "4      5         Joy           Camden          Poland  False   True   True   \n",
       "9     10    Isahella          Bingall  Czech Republic  False   True  False   \n",
       "..   ...         ...              ...             ...    ...    ...    ...   \n",
       "492  493         Gal           Sparke          Poland   True  False   True   \n",
       "494  495     Ethelin           Salman          Poland  False  False   True   \n",
       "496  497  Anna-diane           Easton          Poland  False   True  False   \n",
       "497  498      Kathie         Rushmare          Poland   True   True   True   \n",
       "498  499        Maia          Dudeney          Poland  False   True   True   \n",
       "\n",
       "      order                    company_order frequency  \n",
       "0    990.68        Colgate-Palmolive Company      year  \n",
       "2     32.01  TOP CARE (Topco Associates LLC)      week  \n",
       "3    243.15     Teva Pharmaceuticals USA Inc      week  \n",
       "4    149.16            Eli Lilly and Company      week  \n",
       "9    295.29                   Dolgencorp Inc     month  \n",
       "..      ...                              ...       ...  \n",
       "492  428.30                   Go Smile, Inc.      week  \n",
       "494  472.26       Valu Merchandisers Company      year  \n",
       "496  912.65                       Sandoz Inc   quarter  \n",
       "497  164.67         Ventura Corporation LTD.      week  \n",
       "498  870.31          Rebel Distributors Corp     month  \n",
       "\n",
       "[305 rows x 10 columns]"
      ],
      "text/html": "<div>\n<style scoped>\n    .dataframe tbody tr th:only-of-type {\n        vertical-align: middle;\n    }\n\n    .dataframe tbody tr th {\n        vertical-align: top;\n    }\n\n    .dataframe thead th {\n        text-align: right;\n    }\n</style>\n<table border=\"1\" class=\"dataframe\">\n  <thead>\n    <tr style=\"text-align: right;\">\n      <th></th>\n      <th>id</th>\n      <th>first_name</th>\n      <th>last_name</th>\n      <th>location</th>\n      <th>cat</th>\n      <th>dog</th>\n      <th>other</th>\n      <th>order</th>\n      <th>company_order</th>\n      <th>frequency</th>\n    </tr>\n  </thead>\n  <tbody>\n    <tr>\n      <th>0</th>\n      <td>1</td>\n      <td>Ellissa</td>\n      <td>Snoddy</td>\n      <td>Czech Republic</td>\n      <td>False</td>\n      <td>False</td>\n      <td>True</td>\n      <td>990.68</td>\n      <td>Colgate-Palmolive Company</td>\n      <td>year</td>\n    </tr>\n    <tr>\n      <th>2</th>\n      <td>3</td>\n      <td>Marlo</td>\n      <td>Derham</td>\n      <td>Poland</td>\n      <td>True</td>\n      <td>True</td>\n      <td>True</td>\n      <td>32.01</td>\n      <td>TOP CARE (Topco Associates LLC)</td>\n      <td>week</td>\n    </tr>\n    <tr>\n      <th>3</th>\n      <td>4</td>\n      <td>Carroll</td>\n      <td>Clarke-Williams</td>\n      <td>Czech Republic</td>\n      <td>False</td>\n      <td>True</td>\n      <td>True</td>\n      <td>243.15</td>\n      <td>Teva Pharmaceuticals USA Inc</td>\n      <td>week</td>\n    </tr>\n    <tr>\n      <th>4</th>\n      <td>5</td>\n      <td>Joy</td>\n      <td>Camden</td>\n      <td>Poland</td>\n      <td>False</td>\n      <td>True</td>\n      <td>True</td>\n      <td>149.16</td>\n      <td>Eli Lilly and Company</td>\n      <td>week</td>\n    </tr>\n    <tr>\n      <th>9</th>\n      <td>10</td>\n      <td>Isahella</td>\n      <td>Bingall</td>\n      <td>Czech Republic</td>\n      <td>False</td>\n      <td>True</td>\n      <td>False</td>\n      <td>295.29</td>\n      <td>Dolgencorp Inc</td>\n      <td>month</td>\n    </tr>\n    <tr>\n      <th>...</th>\n      <td>...</td>\n      <td>...</td>\n      <td>...</td>\n      <td>...</td>\n      <td>...</td>\n      <td>...</td>\n      <td>...</td>\n      <td>...</td>\n      <td>...</td>\n      <td>...</td>\n    </tr>\n    <tr>\n      <th>492</th>\n      <td>493</td>\n      <td>Gal</td>\n      <td>Sparke</td>\n      <td>Poland</td>\n      <td>True</td>\n      <td>False</td>\n      <td>True</td>\n      <td>428.30</td>\n      <td>Go Smile, Inc.</td>\n      <td>week</td>\n    </tr>\n    <tr>\n      <th>494</th>\n      <td>495</td>\n      <td>Ethelin</td>\n      <td>Salman</td>\n      <td>Poland</td>\n      <td>False</td>\n      <td>False</td>\n      <td>True</td>\n      <td>472.26</td>\n      <td>Valu Merchandisers Company</td>\n      <td>year</td>\n    </tr>\n    <tr>\n      <th>496</th>\n      <td>497</td>\n      <td>Anna-diane</td>\n      <td>Easton</td>\n      <td>Poland</td>\n      <td>False</td>\n      <td>True</td>\n      <td>False</td>\n      <td>912.65</td>\n      <td>Sandoz Inc</td>\n      <td>quarter</td>\n    </tr>\n    <tr>\n      <th>497</th>\n      <td>498</td>\n      <td>Kathie</td>\n      <td>Rushmare</td>\n      <td>Poland</td>\n      <td>True</td>\n      <td>True</td>\n      <td>True</td>\n      <td>164.67</td>\n      <td>Ventura Corporation LTD.</td>\n      <td>week</td>\n    </tr>\n    <tr>\n      <th>498</th>\n      <td>499</td>\n      <td>Maia</td>\n      <td>Dudeney</td>\n      <td>Poland</td>\n      <td>False</td>\n      <td>True</td>\n      <td>True</td>\n      <td>870.31</td>\n      <td>Rebel Distributors Corp</td>\n      <td>month</td>\n    </tr>\n  </tbody>\n</table>\n<p>305 rows × 10 columns</p>\n</div>"
     },
     "metadata": {},
     "execution_count": 261
    }
   ],
   "source": [
    "#PREPARING DATA/cleaning data \n",
    "#>>removing outliners  Standrad deviation IQR METODY\n",
    "\n",
    "#Standrad Deviation - ex.g \"Sum of order\"\n",
    "\n",
    "meanorder=newdf.order.mean()\n",
    "stdorder=newdf.order.std()\n",
    "\n",
    "toprange=meanorder+stdorder*1.96\n",
    "downrange=meanorder-stdorder*1.96\n",
    "\n",
    "copydf=newdf\n",
    "\n",
    "copydf=copydf.drop(copydf[copydf.order> toprange].index)\n",
    "copydf=copydf.drop(copydf[copydf.order< downrange].index)\n",
    "\n",
    "copydf\n"
   ]
  },
  {
   "cell_type": "code",
   "execution_count": null,
   "metadata": {},
   "outputs": [],
   "source": []
  }
 ]
}